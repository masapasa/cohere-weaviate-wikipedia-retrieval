{
  "cells": [
    {
      "cell_type": "markdown",
      "metadata": {
        "id": "rJD9aP9eVcsT"
      },
      "source": [
        "## Dependencies"
      ]
    },
    {
      "cell_type": "code",
      "execution_count": 8,
      "metadata": {
        "id": "ReE5TWeXSDTe"
      },
      "outputs": [],
      "source": [
        "from dotenv import load_dotenv\n",
        "import os\n",
        "load_dotenv(verbose=True)\n",
        "openai_api_key = os.getenv('OPENAI_API_KEY')\n",
        "cohere_api_key = os.getenv('COHERE_API_KEY')\n",
        "weaviate_api_key = os.getenv('weaviate_api_key')\n",
        "weaviate_url = os.getenv('weaviate_url')"
      ]
    },
    {
      "cell_type": "code",
      "execution_count": 9,
      "metadata": {
        "id": "fn9Pbq7mSGqN"
      },
      "outputs": [
        {
          "data": {
            "text/plain": [
              "{'classes': [{'class': 'JeopardyQuestion',\n",
              "   'description': 'List of jeopardy questions',\n",
              "   'invertedIndexConfig': {'bm25': {'b': 0.75, 'k1': 1.2},\n",
              "    'cleanupIntervalSeconds': 60,\n",
              "    'stopwords': {'additions': None, 'preset': 'en', 'removals': None}},\n",
              "   'moduleConfig': {'generative-openai': {'model': 'gpt-3.5-turbo'},\n",
              "    'text2vec-openai': {'model': 'ada',\n",
              "     'modelVersion': '002',\n",
              "     'type': 'text',\n",
              "     'vectorizeClassName': True}},\n",
              "   'properties': [{'dataType': ['text'],\n",
              "     'description': 'Category of the question',\n",
              "     'indexFilterable': True,\n",
              "     'indexSearchable': True,\n",
              "     'moduleConfig': {'text2vec-openai': {'skip': False,\n",
              "       'vectorizePropertyName': False}},\n",
              "     'name': 'category',\n",
              "     'tokenization': 'word'},\n",
              "    {'dataType': ['text'],\n",
              "     'description': 'The question',\n",
              "     'indexFilterable': True,\n",
              "     'indexSearchable': True,\n",
              "     'moduleConfig': {'text2vec-openai': {'skip': False,\n",
              "       'vectorizePropertyName': False}},\n",
              "     'name': 'question',\n",
              "     'tokenization': 'word'},\n",
              "    {'dataType': ['text'],\n",
              "     'description': 'The answer',\n",
              "     'indexFilterable': True,\n",
              "     'indexSearchable': True,\n",
              "     'moduleConfig': {'text2vec-openai': {'skip': False,\n",
              "       'vectorizePropertyName': False}},\n",
              "     'name': 'answer',\n",
              "     'tokenization': 'word'}],\n",
              "   'replicationConfig': {'factor': 1},\n",
              "   'shardingConfig': {'virtualPerPhysical': 128,\n",
              "    'desiredCount': 1,\n",
              "    'actualCount': 1,\n",
              "    'desiredVirtualCount': 128,\n",
              "    'actualVirtualCount': 128,\n",
              "    'key': '_id',\n",
              "    'strategy': 'hash',\n",
              "    'function': 'murmur3'},\n",
              "   'vectorIndexConfig': {'skip': False,\n",
              "    'cleanupIntervalSeconds': 300,\n",
              "    'maxConnections': 64,\n",
              "    'efConstruction': 128,\n",
              "    'ef': -1,\n",
              "    'dynamicEfMin': 100,\n",
              "    'dynamicEfMax': 500,\n",
              "    'dynamicEfFactor': 8,\n",
              "    'vectorCacheMaxObjects': 1000000000000,\n",
              "    'flatSearchCutoff': 40000,\n",
              "    'distance': 'cosine',\n",
              "    'pq': {'enabled': False,\n",
              "     'bitCompression': False,\n",
              "     'segments': 0,\n",
              "     'centroids': 256,\n",
              "     'encoder': {'type': 'kmeans', 'distribution': 'log-normal'}}},\n",
              "   'vectorIndexType': 'hnsw',\n",
              "   'vectorizer': 'text2vec-openai'}]}"
            ]
          },
          "execution_count": 9,
          "metadata": {},
          "output_type": "execute_result"
        }
      ],
      "source": [
        "import weaviate\n",
        "import json\n",
        "\n",
        "client = weaviate.Client(\n",
        "  url=weaviate_url,  # URL of your Weaviate instance\n",
        "  auth_client_secret=weaviate.AuthApiKey(api_key=weaviate_api_key), # (Optional) If the Weaviate instance requires authentication\n",
        "  additional_headers={\n",
        "    \"X-OpenAI-Api-Key\": openai_api_key, # Replace with your OpenAI key\n",
        "  }\n",
        ")\n",
        "\n",
        "client.schema.get()  # Get the schema to test connection"
      ]
    },
    {
      "cell_type": "markdown",
      "metadata": {
        "id": "jL7QiiDjTjwl"
      },
      "source": [
        "## Schema"
      ]
    },
    {
      "cell_type": "code",
      "execution_count": 10,
      "metadata": {
        "colab": {
          "base_uri": "https://localhost:8080/"
        },
        "id": "JXSfXSxWSU8Q",
        "outputId": "e9489e8b-5db4-429e-badf-b6a140cf774c"
      },
      "outputs": [
        {
          "name": "stdout",
          "output_type": "stream",
          "text": [
            "Successfully created the schema.\n"
          ]
        }
      ],
      "source": [
        "# resetting the schema. CAUTION: THIS WILL DELETE YOUR DATA \n",
        "client.schema.delete_all()\n",
        "\n",
        "schema = {\n",
        "   \"classes\": [\n",
        "       {\n",
        "           \"class\": \"JeopardyQuestion\",\n",
        "           \"description\": \"List of jeopardy questions\",\n",
        "           \"vectorizer\": \"text2vec-openai\",\n",
        "           \"moduleConfig\": { # specify the model you want to use\n",
        "               \"generative-openai\": { \n",
        "                    \"model\": \"gpt-3.5-turbo\",  # Optional - Defaults to `gpt-3.5-turbo`\n",
        "                }\n",
        "           },\n",
        "           \"properties\": [\n",
        "               {\n",
        "                  \"name\": \"Category\",\n",
        "                  \"dataType\": [\"text\"],\n",
        "                  \"description\": \"Category of the question\",\n",
        "               },\n",
        "               {\n",
        "                  \"name\": \"Question\",\n",
        "                  \"dataType\": [\"text\"],\n",
        "                  \"description\": \"The question\",\n",
        "               },\n",
        "               {\n",
        "                  \"name\": \"Answer\",\n",
        "                  \"dataType\": [\"text\"],\n",
        "                  \"description\": \"The answer\",\n",
        "                }\n",
        "            ]\n",
        "        }\n",
        "    ]\n",
        "}\n",
        "\n",
        "client.schema.create(schema)\n",
        "\n",
        "print(\"Successfully created the schema.\")"
      ]
    },
    {
      "cell_type": "markdown",
      "metadata": {
        "id": "AiQVGMnOXs_L"
      },
      "source": [
        "## Import the Data"
      ]
    },
    {
      "cell_type": "code",
      "execution_count": 15,
      "metadata": {
        "colab": {
          "base_uri": "https://localhost:8080/"
        },
        "id": "Mg4k9nvLXu-7",
        "outputId": "9bb3b916-8dd7-420b-8ca1-4b9fea5750d3"
      },
      "outputs": [
        {
          "name": "stdout",
          "output_type": "stream",
          "text": [
            "importing question: 1\n",
            "importing question: 2\n",
            "importing question: 3\n",
            "importing question: 4\n",
            "importing question: 5\n",
            "importing question: 6\n",
            "importing question: 7\n",
            "importing question: 8\n",
            "importing question: 9\n",
            "importing question: 10\n"
          ]
        }
      ],
      "source": [
        "import requests\n",
        "url = 'https://raw.githubusercontent.com/weaviate/weaviate-examples/main/jeopardy_small_dataset/jeopardy_tiny.json'\n",
        "resp = requests.get(url)\n",
        "data = json.loads(resp.text)\n",
        "\n",
        "if client.is_ready():\n",
        "\n",
        "# Configure a batch process\n",
        "  with client.batch as batch:\n",
        "      batch.batch_size=100\n",
        "      # Batch import all Questions\n",
        "      for i, d in enumerate(data):\n",
        "          print(f\"importing question: {i+1}\")\n",
        "\n",
        "          properties = {\n",
        "              \"answer\": d[\"Answer\"],\n",
        "              \"question\": d[\"Question\"],\n",
        "              \"category\": d[\"Category\"],\n",
        "          }\n",
        "\n",
        "          client.batch.add_data_object(properties, \"JeopardyQuestion\")\n",
        "else:\n",
        "  print(\"The Weaviate cluster is not connected.\")"
      ]
    },
    {
      "cell_type": "markdown",
      "metadata": {
        "id": "9Yk3Hg5tXyMh"
      },
      "source": [
        "## Generative Search Queries"
      ]
    },
    {
      "cell_type": "markdown",
      "metadata": {
        "id": "7qs5NLTWX4Q0"
      },
      "source": [
        "### Single Result"
      ]
    },
    {
      "cell_type": "markdown",
      "metadata": {
        "id": "t4me1jL0fkDR"
      },
      "source": [
        "Single Result makes a generation for each individual search result. \n",
        "\n",
        "In the below example, I want to create a Facebook ad from the Jeopardy question about Elephants. "
      ]
    },
    {
      "cell_type": "code",
      "execution_count": 16,
      "metadata": {
        "colab": {
          "base_uri": "https://localhost:8080/"
        },
        "id": "lRRMl6krX3UR",
        "outputId": "731003aa-e0de-4a0e-cb61-56e56ad29b80"
      },
      "outputs": [
        {
          "name": "stdout",
          "output_type": "stream",
          "text": [
            "{\n",
            " \"data\": {\n",
            "  \"Get\": {\n",
            "   \"JeopardyQuestion\": [\n",
            "    {\n",
            "     \"_additional\": {\n",
            "      \"generate\": {\n",
            "       \"error\": null,\n",
            "       \"singleResult\": \"Attention animal lovers! Did you know that there is only one living mammal in the order Proboseidea? Discover more fascinating facts about this unique creature on Jeogrady. Click now to learn more! \\ud83d\\udc18\\ud83c\\udf0d #Jeogrady #AnimalFacts #Proboseidea #Mammals #Wildlife #NatureLovers\"\n",
            "      }\n",
            "     },\n",
            "     \"question\": \"It's the only living mammal in the order Proboseidea\"\n",
            "    }\n",
            "   ]\n",
            "  }\n",
            " }\n",
            "}\n"
          ]
        }
      ],
      "source": [
        "generatePrompt = \"Turn the following Jeogrady question into a Facebook Ad: {question}\"\n",
        "\n",
        "result = (\n",
        "  client.query\n",
        "  .get(\"JeopardyQuestion\", [\"question\"])\n",
        "  .with_generate(single_prompt = generatePrompt)\n",
        "  .with_near_text({\n",
        "    \"concepts\": [\"Elephants\"]\n",
        "  })\n",
        "  .with_limit(1)\n",
        ").do()\n",
        "\n",
        "print(json.dumps(result, indent=1))"
      ]
    },
    {
      "cell_type": "markdown",
      "metadata": {
        "id": "Rg1JvRTFfgla"
      },
      "source": [
        "### Grouped Result"
      ]
    },
    {
      "cell_type": "markdown",
      "metadata": {
        "id": "51RANrlhgoyh"
      },
      "source": [
        "Grouped Result generates a single response from all the search results. \n",
        "\n",
        "The below example is creating a Facebook ad from the 3 retrieved Jeoprady questions about animals. "
      ]
    },
    {
      "cell_type": "code",
      "execution_count": 17,
      "metadata": {
        "colab": {
          "base_uri": "https://localhost:8080/"
        },
        "id": "Gqf3NpZ2fJhg",
        "outputId": "66deb616-af99-493e-9cf4-deddc0d1ee48"
      },
      "outputs": [
        {
          "name": "stdout",
          "output_type": "stream",
          "text": [
            "{\n",
            " \"data\": {\n",
            "  \"Get\": {\n",
            "   \"JeopardyQuestion\": [\n",
            "    {\n",
            "     \"_additional\": {\n",
            "      \"generate\": {\n",
            "       \"error\": null,\n",
            "       \"groupedResult\": \"These Jeopardy questions are under the Animals category because they all relate to different types of animals. The first two questions specifically mention the elephant, which is a well-known animal that falls under the category of mammals. The third question mentions the gavial, which is a type of crocodile, and asks about a specific bodily feature, which is also related to the study of animals. Therefore, all three questions are related to the study of animals and are appropriately categorized under the Animals category.\"\n",
            "      }\n",
            "     },\n",
            "     \"question\": \"It's the only living mammal in the order Proboseidea\"\n",
            "    },\n",
            "    {\n",
            "     \"_additional\": {\n",
            "      \"generate\": null\n",
            "     },\n",
            "     \"question\": \"It's the only living mammal in the order Proboseidea\"\n",
            "    },\n",
            "    {\n",
            "     \"_additional\": {\n",
            "      \"generate\": null\n",
            "     },\n",
            "     \"question\": \"The gavial looks very much like a crocodile except for this bodily feature\"\n",
            "    }\n",
            "   ]\n",
            "  }\n",
            " }\n",
            "}\n"
          ]
        }
      ],
      "source": [
        "generateTask = \"Explain why these Jeopardy questions are under the Animals category.\"\n",
        "\n",
        "result = (\n",
        "  client.query\n",
        "  .get(\"JeopardyQuestion\", [\"question\"])\n",
        "  .with_generate(grouped_task = generateTask)\n",
        "  .with_near_text({\n",
        "    \"concepts\": [\"Animals\"]\n",
        "  })\n",
        "  .with_limit(3)\n",
        ").do()\n",
        "\n",
        "print(json.dumps(result, indent=1))"
      ]
    }
  ],
  "metadata": {
    "colab": {
      "provenance": []
    },
    "kernelspec": {
      "display_name": "Python 3.11.3 64-bit",
      "language": "python",
      "name": "python3"
    },
    "language_info": {
      "codemirror_mode": {
        "name": "ipython",
        "version": 3
      },
      "file_extension": ".py",
      "mimetype": "text/x-python",
      "name": "python",
      "nbconvert_exporter": "python",
      "pygments_lexer": "ipython3",
      "version": "3.11.3"
    },
    "vscode": {
      "interpreter": {
        "hash": "aee8b7b246df8f9039afb4144a1f6fd8d2ca17a180786b69acc140d282b71a49"
      }
    }
  },
  "nbformat": 4,
  "nbformat_minor": 0
}
