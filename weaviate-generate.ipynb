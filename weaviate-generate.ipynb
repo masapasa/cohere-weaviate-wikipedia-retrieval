{
  "cells": [
    {
      "cell_type": "markdown",
      "metadata": {
        "id": "rJD9aP9eVcsT"
      },
      "source": [
        "## Dependencies"
      ]
    },
    {
      "cell_type": "code",
      "execution_count": null,
      "metadata": {
        "id": "ReE5TWeXSDTe"
      },
      "outputs": [],
      "source": [
        "!pip install weaviate-client"
      ]
    },
    {
      "cell_type": "markdown",
      "metadata": {
        "id": "p9Mkfza_SFKM"
      },
      "source": [
        "## Configuration"
      ]
    },
    {
      "cell_type": "code",
      "execution_count": 3,
      "metadata": {
        "id": "fn9Pbq7mSGqN"
      },
      "outputs": [
        {
          "ename": "MissingSchema",
          "evalue": "Invalid URL 'WEAVIATE-INSTANCE-URL/v1/.well-known/ready': No scheme supplied. Perhaps you meant https://WEAVIATE-INSTANCE-URL/v1/.well-known/ready?",
          "output_type": "error",
          "traceback": [
            "\u001b[0;31m---------------------------------------------------------------------------\u001b[0m",
            "\u001b[0;31mMissingSchema\u001b[0m                             Traceback (most recent call last)",
            "Cell \u001b[0;32mIn[3], line 7\u001b[0m\n\u001b[1;32m      5\u001b[0m AUTH_KEY \u001b[39m=\u001b[39m os\u001b[39m.\u001b[39mgetenv(\u001b[39m'\u001b[39m\u001b[39mAUTH-KEY\u001b[39m\u001b[39m'\u001b[39m)\n\u001b[1;32m      6\u001b[0m OPENAI_API_KEY \u001b[39m=\u001b[39m os\u001b[39m.\u001b[39mgetenv(\u001b[39m'\u001b[39m\u001b[39mOpenAI-Api-Key\u001b[39m\u001b[39m'\u001b[39m)\n\u001b[0;32m----> 7\u001b[0m client \u001b[39m=\u001b[39m weaviate\u001b[39m.\u001b[39;49mClient(\n\u001b[1;32m      8\u001b[0m   url\u001b[39m=\u001b[39;49m\u001b[39m\"\u001b[39;49m\u001b[39mWEAVIATE-INSTANCE-URL\u001b[39;49m\u001b[39m\"\u001b[39;49m,  \u001b[39m# URL of your Weaviate instance\u001b[39;49;00m\n\u001b[1;32m      9\u001b[0m   auth_client_secret\u001b[39m=\u001b[39;49mweaviate\u001b[39m.\u001b[39;49mAuthApiKey(api_key\u001b[39m=\u001b[39;49m\u001b[39m\"\u001b[39;49m\u001b[39mAUTH-KEY\u001b[39;49m\u001b[39m\"\u001b[39;49m), \u001b[39m# (Optional) If the Weaviate instance requires authentication\u001b[39;49;00m\n\u001b[1;32m     10\u001b[0m   additional_headers\u001b[39m=\u001b[39;49m{\n\u001b[1;32m     11\u001b[0m     \u001b[39m\"\u001b[39;49m\u001b[39mX-OpenAI-Api-Key\u001b[39;49m\u001b[39m\"\u001b[39;49m: \u001b[39m\"\u001b[39;49m\u001b[39mOPENAI-API-KEY\u001b[39;49m\u001b[39m\"\u001b[39;49m, \u001b[39m# Replace with your OpenAI key\u001b[39;49;00m\n\u001b[1;32m     12\u001b[0m   }\n\u001b[1;32m     13\u001b[0m )\n\u001b[1;32m     15\u001b[0m client\u001b[39m.\u001b[39mschema\u001b[39m.\u001b[39mget()  \u001b[39m# Get the schema to test connection\u001b[39;00m\n",
            "File \u001b[0;32m~/Documents/quivr/.venv/lib/python3.11/site-packages/weaviate/client.py:161\u001b[0m, in \u001b[0;36mClient.__init__\u001b[0;34m(self, url, auth_client_secret, timeout_config, proxies, trust_env, additional_headers, startup_period, embedded_options, additional_config)\u001b[0m\n\u001b[1;32m    157\u001b[0m     embedded_db \u001b[39m=\u001b[39m \u001b[39mNone\u001b[39;00m\n\u001b[1;32m    159\u001b[0m config \u001b[39m=\u001b[39m Config() \u001b[39mif\u001b[39;00m additional_config \u001b[39mis\u001b[39;00m \u001b[39mNone\u001b[39;00m \u001b[39melse\u001b[39;00m additional_config\n\u001b[0;32m--> 161\u001b[0m \u001b[39mself\u001b[39m\u001b[39m.\u001b[39m_connection \u001b[39m=\u001b[39m Connection(\n\u001b[1;32m    162\u001b[0m     url\u001b[39m=\u001b[39;49murl,\n\u001b[1;32m    163\u001b[0m     auth_client_secret\u001b[39m=\u001b[39;49mauth_client_secret,\n\u001b[1;32m    164\u001b[0m     timeout_config\u001b[39m=\u001b[39;49mtimeout_config,\n\u001b[1;32m    165\u001b[0m     proxies\u001b[39m=\u001b[39;49mproxies,\n\u001b[1;32m    166\u001b[0m     trust_env\u001b[39m=\u001b[39;49mtrust_env,\n\u001b[1;32m    167\u001b[0m     additional_headers\u001b[39m=\u001b[39;49madditional_headers,\n\u001b[1;32m    168\u001b[0m     startup_period\u001b[39m=\u001b[39;49mstartup_period,\n\u001b[1;32m    169\u001b[0m     embedded_db\u001b[39m=\u001b[39;49membedded_db,\n\u001b[1;32m    170\u001b[0m     grcp_port\u001b[39m=\u001b[39;49mconfig\u001b[39m.\u001b[39;49mgrpc_port_experimental,\n\u001b[1;32m    171\u001b[0m     connection_config\u001b[39m=\u001b[39;49mconfig\u001b[39m.\u001b[39;49mconnection_config,\n\u001b[1;32m    172\u001b[0m )\n\u001b[1;32m    173\u001b[0m \u001b[39mself\u001b[39m\u001b[39m.\u001b[39mclassification \u001b[39m=\u001b[39m Classification(\u001b[39mself\u001b[39m\u001b[39m.\u001b[39m_connection)\n\u001b[1;32m    174\u001b[0m \u001b[39mself\u001b[39m\u001b[39m.\u001b[39mschema \u001b[39m=\u001b[39m Schema(\u001b[39mself\u001b[39m\u001b[39m.\u001b[39m_connection)\n",
            "File \u001b[0;32m~/Documents/quivr/.venv/lib/python3.11/site-packages/weaviate/connect/connection.py:637\u001b[0m, in \u001b[0;36mConnection.__init__\u001b[0;34m(self, url, auth_client_secret, timeout_config, proxies, trust_env, additional_headers, startup_period, connection_config, embedded_db, grcp_port)\u001b[0m\n\u001b[1;32m    624\u001b[0m \u001b[39mdef\u001b[39;00m \u001b[39m__init__\u001b[39m(\n\u001b[1;32m    625\u001b[0m     \u001b[39mself\u001b[39m,\n\u001b[1;32m    626\u001b[0m     url: \u001b[39mstr\u001b[39m,\n\u001b[0;32m   (...)\u001b[0m\n\u001b[1;32m    635\u001b[0m     grcp_port: Optional[\u001b[39mint\u001b[39m] \u001b[39m=\u001b[39m \u001b[39mNone\u001b[39;00m,\n\u001b[1;32m    636\u001b[0m ):\n\u001b[0;32m--> 637\u001b[0m     \u001b[39msuper\u001b[39;49m()\u001b[39m.\u001b[39;49m\u001b[39m__init__\u001b[39;49m(\n\u001b[1;32m    638\u001b[0m         url,\n\u001b[1;32m    639\u001b[0m         auth_client_secret,\n\u001b[1;32m    640\u001b[0m         timeout_config,\n\u001b[1;32m    641\u001b[0m         proxies,\n\u001b[1;32m    642\u001b[0m         trust_env,\n\u001b[1;32m    643\u001b[0m         additional_headers,\n\u001b[1;32m    644\u001b[0m         startup_period,\n\u001b[1;32m    645\u001b[0m         connection_config,\n\u001b[1;32m    646\u001b[0m         embedded_db,\n\u001b[1;32m    647\u001b[0m         grcp_port,\n\u001b[1;32m    648\u001b[0m     )\n\u001b[1;32m    649\u001b[0m     \u001b[39mself\u001b[39m\u001b[39m.\u001b[39m_server_version \u001b[39m=\u001b[39m \u001b[39mself\u001b[39m\u001b[39m.\u001b[39mget_meta()[\u001b[39m\"\u001b[39m\u001b[39mversion\u001b[39m\u001b[39m\"\u001b[39m]\n\u001b[1;32m    650\u001b[0m     \u001b[39mif\u001b[39;00m \u001b[39mself\u001b[39m\u001b[39m.\u001b[39m_server_version \u001b[39m<\u001b[39m \u001b[39m\"\u001b[39m\u001b[39m1.14\u001b[39m\u001b[39m\"\u001b[39m:\n",
            "File \u001b[0;32m~/Documents/quivr/.venv/lib/python3.11/site-packages/weaviate/connect/connection.py:149\u001b[0m, in \u001b[0;36mBaseConnection.__init__\u001b[0;34m(self, url, auth_client_secret, timeout_config, proxies, trust_env, additional_headers, startup_period, connection_config, embedded_db, grcp_port)\u001b[0m\n\u001b[1;32m    147\u001b[0m \u001b[39mif\u001b[39;00m startup_period \u001b[39mis\u001b[39;00m \u001b[39mnot\u001b[39;00m \u001b[39mNone\u001b[39;00m:\n\u001b[1;32m    148\u001b[0m     _check_positive_num(startup_period, \u001b[39m\"\u001b[39m\u001b[39mstartup_period\u001b[39m\u001b[39m\"\u001b[39m, \u001b[39mint\u001b[39m, include_zero\u001b[39m=\u001b[39m\u001b[39mFalse\u001b[39;00m)\n\u001b[0;32m--> 149\u001b[0m     \u001b[39mself\u001b[39;49m\u001b[39m.\u001b[39;49mwait_for_weaviate(startup_period)\n\u001b[1;32m    151\u001b[0m \u001b[39mself\u001b[39m\u001b[39m.\u001b[39m_create_session(auth_client_secret)\n\u001b[1;32m    152\u001b[0m \u001b[39mself\u001b[39m\u001b[39m.\u001b[39m_add_adapter_to_session(connection_config)\n",
            "File \u001b[0;32m~/Documents/quivr/.venv/lib/python3.11/site-packages/weaviate/connect/connection.py:609\u001b[0m, in \u001b[0;36mBaseConnection.wait_for_weaviate\u001b[0;34m(self, startup_period)\u001b[0m\n\u001b[1;32m    607\u001b[0m \u001b[39mfor\u001b[39;00m _i \u001b[39min\u001b[39;00m \u001b[39mrange\u001b[39m(startup_period):\n\u001b[1;32m    608\u001b[0m     \u001b[39mtry\u001b[39;00m:\n\u001b[0;32m--> 609\u001b[0m         requests\u001b[39m.\u001b[39;49mget(ready_url)\u001b[39m.\u001b[39mraise_for_status()\n\u001b[1;32m    610\u001b[0m         \u001b[39mreturn\u001b[39;00m\n\u001b[1;32m    611\u001b[0m     \u001b[39mexcept\u001b[39;00m (RequestsHTTPError, RequestsConnectionError):\n",
            "File \u001b[0;32m~/Documents/quivr/.venv/lib/python3.11/site-packages/requests/api.py:73\u001b[0m, in \u001b[0;36mget\u001b[0;34m(url, params, **kwargs)\u001b[0m\n\u001b[1;32m     62\u001b[0m \u001b[39mdef\u001b[39;00m \u001b[39mget\u001b[39m(url, params\u001b[39m=\u001b[39m\u001b[39mNone\u001b[39;00m, \u001b[39m*\u001b[39m\u001b[39m*\u001b[39mkwargs):\n\u001b[1;32m     63\u001b[0m \u001b[39m    \u001b[39m\u001b[39mr\u001b[39m\u001b[39m\"\"\"Sends a GET request.\u001b[39;00m\n\u001b[1;32m     64\u001b[0m \n\u001b[1;32m     65\u001b[0m \u001b[39m    :param url: URL for the new :class:`Request` object.\u001b[39;00m\n\u001b[0;32m   (...)\u001b[0m\n\u001b[1;32m     70\u001b[0m \u001b[39m    :rtype: requests.Response\u001b[39;00m\n\u001b[1;32m     71\u001b[0m \u001b[39m    \"\"\"\u001b[39;00m\n\u001b[0;32m---> 73\u001b[0m     \u001b[39mreturn\u001b[39;00m request(\u001b[39m\"\u001b[39;49m\u001b[39mget\u001b[39;49m\u001b[39m\"\u001b[39;49m, url, params\u001b[39m=\u001b[39;49mparams, \u001b[39m*\u001b[39;49m\u001b[39m*\u001b[39;49mkwargs)\n",
            "File \u001b[0;32m~/Documents/quivr/.venv/lib/python3.11/site-packages/requests/api.py:59\u001b[0m, in \u001b[0;36mrequest\u001b[0;34m(method, url, **kwargs)\u001b[0m\n\u001b[1;32m     55\u001b[0m \u001b[39m# By using the 'with' statement we are sure the session is closed, thus we\u001b[39;00m\n\u001b[1;32m     56\u001b[0m \u001b[39m# avoid leaving sockets open which can trigger a ResourceWarning in some\u001b[39;00m\n\u001b[1;32m     57\u001b[0m \u001b[39m# cases, and look like a memory leak in others.\u001b[39;00m\n\u001b[1;32m     58\u001b[0m \u001b[39mwith\u001b[39;00m sessions\u001b[39m.\u001b[39mSession() \u001b[39mas\u001b[39;00m session:\n\u001b[0;32m---> 59\u001b[0m     \u001b[39mreturn\u001b[39;00m session\u001b[39m.\u001b[39;49mrequest(method\u001b[39m=\u001b[39;49mmethod, url\u001b[39m=\u001b[39;49murl, \u001b[39m*\u001b[39;49m\u001b[39m*\u001b[39;49mkwargs)\n",
            "File \u001b[0;32m~/Documents/quivr/.venv/lib/python3.11/site-packages/requests/sessions.py:573\u001b[0m, in \u001b[0;36mSession.request\u001b[0;34m(self, method, url, params, data, headers, cookies, files, auth, timeout, allow_redirects, proxies, hooks, stream, verify, cert, json)\u001b[0m\n\u001b[1;32m    560\u001b[0m \u001b[39m# Create the Request.\u001b[39;00m\n\u001b[1;32m    561\u001b[0m req \u001b[39m=\u001b[39m Request(\n\u001b[1;32m    562\u001b[0m     method\u001b[39m=\u001b[39mmethod\u001b[39m.\u001b[39mupper(),\n\u001b[1;32m    563\u001b[0m     url\u001b[39m=\u001b[39murl,\n\u001b[0;32m   (...)\u001b[0m\n\u001b[1;32m    571\u001b[0m     hooks\u001b[39m=\u001b[39mhooks,\n\u001b[1;32m    572\u001b[0m )\n\u001b[0;32m--> 573\u001b[0m prep \u001b[39m=\u001b[39m \u001b[39mself\u001b[39;49m\u001b[39m.\u001b[39;49mprepare_request(req)\n\u001b[1;32m    575\u001b[0m proxies \u001b[39m=\u001b[39m proxies \u001b[39mor\u001b[39;00m {}\n\u001b[1;32m    577\u001b[0m settings \u001b[39m=\u001b[39m \u001b[39mself\u001b[39m\u001b[39m.\u001b[39mmerge_environment_settings(\n\u001b[1;32m    578\u001b[0m     prep\u001b[39m.\u001b[39murl, proxies, stream, verify, cert\n\u001b[1;32m    579\u001b[0m )\n",
            "File \u001b[0;32m~/Documents/quivr/.venv/lib/python3.11/site-packages/requests/sessions.py:484\u001b[0m, in \u001b[0;36mSession.prepare_request\u001b[0;34m(self, request)\u001b[0m\n\u001b[1;32m    481\u001b[0m     auth \u001b[39m=\u001b[39m get_netrc_auth(request\u001b[39m.\u001b[39murl)\n\u001b[1;32m    483\u001b[0m p \u001b[39m=\u001b[39m PreparedRequest()\n\u001b[0;32m--> 484\u001b[0m p\u001b[39m.\u001b[39;49mprepare(\n\u001b[1;32m    485\u001b[0m     method\u001b[39m=\u001b[39;49mrequest\u001b[39m.\u001b[39;49mmethod\u001b[39m.\u001b[39;49mupper(),\n\u001b[1;32m    486\u001b[0m     url\u001b[39m=\u001b[39;49mrequest\u001b[39m.\u001b[39;49murl,\n\u001b[1;32m    487\u001b[0m     files\u001b[39m=\u001b[39;49mrequest\u001b[39m.\u001b[39;49mfiles,\n\u001b[1;32m    488\u001b[0m     data\u001b[39m=\u001b[39;49mrequest\u001b[39m.\u001b[39;49mdata,\n\u001b[1;32m    489\u001b[0m     json\u001b[39m=\u001b[39;49mrequest\u001b[39m.\u001b[39;49mjson,\n\u001b[1;32m    490\u001b[0m     headers\u001b[39m=\u001b[39;49mmerge_setting(\n\u001b[1;32m    491\u001b[0m         request\u001b[39m.\u001b[39;49mheaders, \u001b[39mself\u001b[39;49m\u001b[39m.\u001b[39;49mheaders, dict_class\u001b[39m=\u001b[39;49mCaseInsensitiveDict\n\u001b[1;32m    492\u001b[0m     ),\n\u001b[1;32m    493\u001b[0m     params\u001b[39m=\u001b[39;49mmerge_setting(request\u001b[39m.\u001b[39;49mparams, \u001b[39mself\u001b[39;49m\u001b[39m.\u001b[39;49mparams),\n\u001b[1;32m    494\u001b[0m     auth\u001b[39m=\u001b[39;49mmerge_setting(auth, \u001b[39mself\u001b[39;49m\u001b[39m.\u001b[39;49mauth),\n\u001b[1;32m    495\u001b[0m     cookies\u001b[39m=\u001b[39;49mmerged_cookies,\n\u001b[1;32m    496\u001b[0m     hooks\u001b[39m=\u001b[39;49mmerge_hooks(request\u001b[39m.\u001b[39;49mhooks, \u001b[39mself\u001b[39;49m\u001b[39m.\u001b[39;49mhooks),\n\u001b[1;32m    497\u001b[0m )\n\u001b[1;32m    498\u001b[0m \u001b[39mreturn\u001b[39;00m p\n",
            "File \u001b[0;32m~/Documents/quivr/.venv/lib/python3.11/site-packages/requests/models.py:368\u001b[0m, in \u001b[0;36mPreparedRequest.prepare\u001b[0;34m(self, method, url, headers, files, data, params, auth, cookies, hooks, json)\u001b[0m\n\u001b[1;32m    365\u001b[0m \u001b[39m\u001b[39m\u001b[39m\"\"\"Prepares the entire request with the given parameters.\"\"\"\u001b[39;00m\n\u001b[1;32m    367\u001b[0m \u001b[39mself\u001b[39m\u001b[39m.\u001b[39mprepare_method(method)\n\u001b[0;32m--> 368\u001b[0m \u001b[39mself\u001b[39;49m\u001b[39m.\u001b[39;49mprepare_url(url, params)\n\u001b[1;32m    369\u001b[0m \u001b[39mself\u001b[39m\u001b[39m.\u001b[39mprepare_headers(headers)\n\u001b[1;32m    370\u001b[0m \u001b[39mself\u001b[39m\u001b[39m.\u001b[39mprepare_cookies(cookies)\n",
            "File \u001b[0;32m~/Documents/quivr/.venv/lib/python3.11/site-packages/requests/models.py:439\u001b[0m, in \u001b[0;36mPreparedRequest.prepare_url\u001b[0;34m(self, url, params)\u001b[0m\n\u001b[1;32m    436\u001b[0m     \u001b[39mraise\u001b[39;00m InvalidURL(\u001b[39m*\u001b[39me\u001b[39m.\u001b[39margs)\n\u001b[1;32m    438\u001b[0m \u001b[39mif\u001b[39;00m \u001b[39mnot\u001b[39;00m scheme:\n\u001b[0;32m--> 439\u001b[0m     \u001b[39mraise\u001b[39;00m MissingSchema(\n\u001b[1;32m    440\u001b[0m         \u001b[39mf\u001b[39m\u001b[39m\"\u001b[39m\u001b[39mInvalid URL \u001b[39m\u001b[39m{\u001b[39;00murl\u001b[39m!r}\u001b[39;00m\u001b[39m: No scheme supplied. \u001b[39m\u001b[39m\"\u001b[39m\n\u001b[1;32m    441\u001b[0m         \u001b[39mf\u001b[39m\u001b[39m\"\u001b[39m\u001b[39mPerhaps you meant https://\u001b[39m\u001b[39m{\u001b[39;00murl\u001b[39m}\u001b[39;00m\u001b[39m?\u001b[39m\u001b[39m\"\u001b[39m\n\u001b[1;32m    442\u001b[0m     )\n\u001b[1;32m    444\u001b[0m \u001b[39mif\u001b[39;00m \u001b[39mnot\u001b[39;00m host:\n\u001b[1;32m    445\u001b[0m     \u001b[39mraise\u001b[39;00m InvalidURL(\u001b[39mf\u001b[39m\u001b[39m\"\u001b[39m\u001b[39mInvalid URL \u001b[39m\u001b[39m{\u001b[39;00murl\u001b[39m!r}\u001b[39;00m\u001b[39m: No host supplied\u001b[39m\u001b[39m\"\u001b[39m)\n",
            "\u001b[0;31mMissingSchema\u001b[0m: Invalid URL 'WEAVIATE-INSTANCE-URL/v1/.well-known/ready': No scheme supplied. Perhaps you meant https://WEAVIATE-INSTANCE-URL/v1/.well-known/ready?"
          ]
        }
      ],
      "source": [
        "import weaviate\n",
        "import json\n",
        "import os\n",
        "WEAVIATE_INSTANCE_URL = os.getenv('WEAVIATE-INSTANCE-URL')\n",
        "AUTH_KEY = os.getenv('AUTH-KEY')\n",
        "OPENAI_API_KEY = os.getenv('OpenAI-Api-Key')\n",
        "client = weaviate.Client(\n",
        "  url=\"WEAVIATE-INSTANCE-URL\",  # URL of your Weaviate instance\n",
        "  auth_client_secret=weaviate.AuthApiKey(api_key=\"AUTH-KEY\"), # (Optional) If the Weaviate instance requires authentication\n",
        "  additional_headers={\n",
        "    \"X-OpenAI-Api-Key\": \"OPENAI-API-KEY\", # Replace with your OpenAI key\n",
        "  }\n",
        ")\n",
        "\n",
        "client.schema.get()  # Get the schema to test connection"
      ]
    },
    {
      "cell_type": "markdown",
      "metadata": {
        "id": "jL7QiiDjTjwl"
      },
      "source": [
        "## Schema"
      ]
    },
    {
      "cell_type": "code",
      "execution_count": null,
      "metadata": {
        "colab": {
          "base_uri": "https://localhost:8080/"
        },
        "id": "JXSfXSxWSU8Q",
        "outputId": "e9489e8b-5db4-429e-badf-b6a140cf774c"
      },
      "outputs": [],
      "source": [
        "# resetting the schema. CAUTION: THIS WILL DELETE YOUR DATA \n",
        "client.schema.delete_all()\n",
        "\n",
        "schema = {\n",
        "   \"classes\": [\n",
        "       {\n",
        "           \"class\": \"JeopardyQuestion\",\n",
        "           \"description\": \"List of jeopardy questions\",\n",
        "           \"vectorizer\": \"text2vec-openai\",\n",
        "           \"moduleConfig\": { # specify the model you want to use\n",
        "               \"generative-openai\": { \n",
        "                    \"model\": \"gpt-3.5-turbo\",  # Optional - Defaults to `gpt-3.5-turbo`\n",
        "                }\n",
        "           },\n",
        "           \"properties\": [\n",
        "               {\n",
        "                  \"name\": \"Category\",\n",
        "                  \"dataType\": [\"text\"],\n",
        "                  \"description\": \"Category of the question\",\n",
        "               },\n",
        "               {\n",
        "                  \"name\": \"Question\",\n",
        "                  \"dataType\": [\"text\"],\n",
        "                  \"description\": \"The question\",\n",
        "               },\n",
        "               {\n",
        "                  \"name\": \"Answer\",\n",
        "                  \"dataType\": [\"text\"],\n",
        "                  \"description\": \"The answer\",\n",
        "                }\n",
        "            ]\n",
        "        }\n",
        "    ]\n",
        "}\n",
        "\n",
        "client.schema.create(schema)\n",
        "\n",
        "print(\"Successfully created the schema.\")"
      ]
    },
    {
      "cell_type": "markdown",
      "metadata": {
        "id": "AiQVGMnOXs_L"
      },
      "source": [
        "## Import the Data"
      ]
    },
    {
      "cell_type": "code",
      "execution_count": null,
      "metadata": {
        "colab": {
          "base_uri": "https://localhost:8080/"
        },
        "id": "Mg4k9nvLXu-7",
        "outputId": "9bb3b916-8dd7-420b-8ca1-4b9fea5750d3"
      },
      "outputs": [],
      "source": [
        "import requests\n",
        "url = 'https://raw.githubusercontent.com/weaviate/weaviate-examples/main/jeopardy_small_dataset/jeopardy_tiny.json'\n",
        "resp = requests.get(url)\n",
        "data = json.loads(resp.text)\n",
        "\n",
        "if client.is_ready():\n",
        "\n",
        "# Configure a batch process\n",
        "  with client.batch as batch:\n",
        "      batch.batch_size=100\n",
        "      # Batch import all Questions\n",
        "      for i, d in enumerate(data):\n",
        "          print(f\"importing question: {i+1}\")\n",
        "\n",
        "          properties = {\n",
        "              \"answer\": d[\"Answer\"],\n",
        "              \"question\": d[\"Question\"],\n",
        "              \"category\": d[\"Category\"],\n",
        "          }\n",
        "\n",
        "          client.batch.add_data_object(properties, \"JeopardyQuestion\")\n",
        "else:\n",
        "  print(\"The Weaviate cluster is not connected.\")"
      ]
    },
    {
      "cell_type": "markdown",
      "metadata": {
        "id": "9Yk3Hg5tXyMh"
      },
      "source": [
        "## Generative Search Queries"
      ]
    },
    {
      "cell_type": "markdown",
      "metadata": {
        "id": "7qs5NLTWX4Q0"
      },
      "source": [
        "### Single Result"
      ]
    },
    {
      "cell_type": "markdown",
      "metadata": {
        "id": "t4me1jL0fkDR"
      },
      "source": [
        "Single Result makes a generation for each individual search result. \n",
        "\n",
        "In the below example, I want to create a Facebook ad from the Jeopardy question about Elephants. "
      ]
    },
    {
      "cell_type": "code",
      "execution_count": null,
      "metadata": {
        "colab": {
          "base_uri": "https://localhost:8080/"
        },
        "id": "lRRMl6krX3UR",
        "outputId": "731003aa-e0de-4a0e-cb61-56e56ad29b80"
      },
      "outputs": [
        {
          "name": "stdout",
          "output_type": "stream",
          "text": [
            "{\n",
            " \"data\": {\n",
            "  \"Get\": {\n",
            "   \"JeopardyQuestion\": [\n",
            "    {\n",
            "     \"_additional\": {\n",
            "      \"generate\": {\n",
            "       \"error\": null,\n",
            "       \"singleResult\": \"Attention animal lovers! Did you know that there is only one living mammal in the order Proboseidea? Discover more fascinating facts about this unique creature on Jeogrady. Click now to learn more! \\ud83d\\udc18\\ud83c\\udf0d #Jeogrady #AnimalFacts #Proboseidea #Mammals #Wildlife #NatureLovers\"\n",
            "      }\n",
            "     },\n",
            "     \"question\": \"It's the only living mammal in the order Proboseidea\"\n",
            "    }\n",
            "   ]\n",
            "  }\n",
            " }\n",
            "}\n"
          ]
        }
      ],
      "source": [
        "generatePrompt = \"Turn the following Jeogrady question into a Facebook Ad: {question}\"\n",
        "\n",
        "result = (\n",
        "  client.query\n",
        "  .get(\"JeopardyQuestion\", [\"question\"])\n",
        "  .with_generate(single_prompt = generatePrompt)\n",
        "  .with_near_text({\n",
        "    \"concepts\": [\"Elephants\"]\n",
        "  })\n",
        "  .with_limit(1)\n",
        ").do()\n",
        "\n",
        "print(json.dumps(result, indent=1))"
      ]
    },
    {
      "cell_type": "markdown",
      "metadata": {
        "id": "Rg1JvRTFfgla"
      },
      "source": [
        "### Grouped Result"
      ]
    },
    {
      "cell_type": "markdown",
      "metadata": {
        "id": "51RANrlhgoyh"
      },
      "source": [
        "Grouped Result generates a single response from all the search results. \n",
        "\n",
        "The below example is creating a Facebook ad from the 3 retrieved Jeoprady questions about animals. "
      ]
    },
    {
      "cell_type": "code",
      "execution_count": null,
      "metadata": {
        "colab": {
          "base_uri": "https://localhost:8080/"
        },
        "id": "Gqf3NpZ2fJhg",
        "outputId": "66deb616-af99-493e-9cf4-deddc0d1ee48"
      },
      "outputs": [
        {
          "name": "stdout",
          "output_type": "stream",
          "text": [
            "{\n",
            " \"data\": {\n",
            "  \"Get\": {\n",
            "   \"JeopardyQuestion\": [\n",
            "    {\n",
            "     \"_additional\": {\n",
            "      \"generate\": {\n",
            "       \"error\": null,\n",
            "       \"groupedResult\": \"The first two Jeopardy questions are under the Animals category because they both refer to specific animals - the elephant and the gavial. The third question is actually under the Science category, not Animals, because it refers to the classification of a specific type of bird.\"\n",
            "      }\n",
            "     },\n",
            "     \"question\": \"It's the only living mammal in the order Proboseidea\"\n",
            "    },\n",
            "    {\n",
            "     \"_additional\": {\n",
            "      \"generate\": null\n",
            "     },\n",
            "     \"question\": \"The gavial looks very much like a crocodile except for this bodily feature\"\n",
            "    },\n",
            "    {\n",
            "     \"_additional\": {\n",
            "      \"generate\": null\n",
            "     },\n",
            "     \"question\": \"2000 news: the Gunnison sage grouse isn't just another northern sage grouse, but a new one of this classification\"\n",
            "    }\n",
            "   ]\n",
            "  }\n",
            " }\n",
            "}\n"
          ]
        }
      ],
      "source": [
        "generateTask = \"Explain why these Jeopardy questions are under the Animals category.\"\n",
        "\n",
        "result = (\n",
        "  client.query\n",
        "  .get(\"JeopardyQuestion\", [\"question\"])\n",
        "  .with_generate(grouped_task = generateTask)\n",
        "  .with_near_text({\n",
        "    \"concepts\": [\"Animals\"]\n",
        "  })\n",
        "  .with_limit(3)\n",
        ").do()\n",
        "\n",
        "print(json.dumps(result, indent=1))"
      ]
    }
  ],
  "metadata": {
    "colab": {
      "provenance": []
    },
    "kernelspec": {
      "display_name": "Python 3.11.3 64-bit",
      "language": "python",
      "name": "python3"
    },
    "language_info": {
      "codemirror_mode": {
        "name": "ipython",
        "version": 3
      },
      "file_extension": ".py",
      "mimetype": "text/x-python",
      "name": "python",
      "nbconvert_exporter": "python",
      "pygments_lexer": "ipython3",
      "version": "3.11.3"
    },
    "vscode": {
      "interpreter": {
        "hash": "aee8b7b246df8f9039afb4144a1f6fd8d2ca17a180786b69acc140d282b71a49"
      }
    }
  },
  "nbformat": 4,
  "nbformat_minor": 0
}
