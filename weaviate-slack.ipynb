{
  "cells": [
    {
      "cell_type": "code",
      "execution_count": 3,
      "metadata": {
        "colab": {
          "base_uri": "https://localhost:8080/",
          "height": 856
        },
        "id": "Wxl__9HQGoML",
        "outputId": "fac7ab99-9673-4878-9438-1ade054e0a3a"
      },
      "outputs": [
        {
          "data": {
            "text/html": [
              "\n",
              "  <style>\n",
              "    pre {\n",
              "        white-space: pre-wrap;\n",
              "    }\n",
              "  </style>\n",
              "  "
            ],
            "text/plain": [
              "<IPython.core.display.HTML object>"
            ]
          },
          "metadata": {},
          "output_type": "display_data"
        },
        {
          "name": "stderr",
          "output_type": "stream",
          "text": [
            "Retrieving folder list\n"
          ]
        },
        {
          "name": "stdout",
          "output_type": "stream",
          "text": [
            "Processing file 1QMNTLBTcgr2bZlwn072b2aabzAC8_EKO chats-embeddings-ada-002.csv\n",
            "Processing file 1eOta0PjQpn3spi8MsC2yLFBfKAeDMKDd chats.csv\n",
            "Processing file 1kdldUOEBYuxfKdLdRbSd0j4yh6nxEsEs LICENSE.txt\n",
            "Processing file 1soJjObg5XOSfY_Ie-s0B2akUibz2Hg9M messages-embeddings-ada-002.csv\n",
            "Processing file 1i-Rqg9bGlTNZ-fm2Ui37qHvWYlIv9FrJ messages.csv\n",
            "Processing file 1IcUzqvc2-zJmDIJA1RgwtGzHO-nWqBVF questions_list_example.csv\n",
            "Processing file 1t_HWLQVGY-SR1bT2weOZ_MaVmBub3F-4 Vector DB & LLM Hackathon - Starter.ipynb\n",
            "Building directory structure completed\n"
          ]
        },
        {
          "name": "stderr",
          "output_type": "stream",
          "text": [
            "Retrieving folder list completed\n",
            "Building directory structure\n",
            "Downloading...\n",
            "From: https://drive.google.com/uc?id=1QMNTLBTcgr2bZlwn072b2aabzAC8_EKO\n",
            "To: /content/Vector DB & LLM Hackathon/chats-embeddings-ada-002.csv\n",
            "100%|██████████| 334M/334M [00:02<00:00, 165MB/s]\n",
            "Downloading...\n",
            "From: https://drive.google.com/uc?id=1eOta0PjQpn3spi8MsC2yLFBfKAeDMKDd\n",
            "To: /content/Vector DB & LLM Hackathon/chats.csv\n",
            "100%|██████████| 15.1M/15.1M [00:00<00:00, 118MB/s]\n",
            "Downloading...\n",
            "From: https://drive.google.com/uc?id=1kdldUOEBYuxfKdLdRbSd0j4yh6nxEsEs\n",
            "To: /content/Vector DB & LLM Hackathon/LICENSE.txt\n",
            "100%|██████████| 166/166 [00:00<00:00, 331kB/s]\n",
            "Downloading...\n",
            "From: https://drive.google.com/uc?id=1soJjObg5XOSfY_Ie-s0B2akUibz2Hg9M\n",
            "To: /content/Vector DB & LLM Hackathon/messages-embeddings-ada-002.csv\n",
            "100%|██████████| 2.16G/2.16G [00:17<00:00, 125MB/s]\n",
            "Downloading...\n",
            "From: https://drive.google.com/uc?id=1i-Rqg9bGlTNZ-fm2Ui37qHvWYlIv9FrJ\n",
            "To: /content/Vector DB & LLM Hackathon/messages.csv\n",
            "100%|██████████| 26.0M/26.0M [00:00<00:00, 134MB/s] \n",
            "Downloading...\n",
            "From: https://drive.google.com/uc?id=1IcUzqvc2-zJmDIJA1RgwtGzHO-nWqBVF\n",
            "To: /content/Vector DB & LLM Hackathon/questions_list_example.csv\n",
            "100%|██████████| 1.50k/1.50k [00:00<00:00, 7.14MB/s]\n",
            "Downloading...\n",
            "From: https://drive.google.com/uc?id=1t_HWLQVGY-SR1bT2weOZ_MaVmBub3F-4\n",
            "To: /content/Vector DB & LLM Hackathon/Vector DB & LLM Hackathon - Starter.ipynb\n",
            "100%|██████████| 85.4k/85.4k [00:00<00:00, 59.5MB/s]\n",
            "Download completed\n"
          ]
        },
        {
          "data": {
            "text/plain": [
              "['/content/Vector DB & LLM Hackathon/chats-embeddings-ada-002.csv',\n",
              " '/content/Vector DB & LLM Hackathon/chats.csv',\n",
              " '/content/Vector DB & LLM Hackathon/LICENSE.txt',\n",
              " '/content/Vector DB & LLM Hackathon/messages-embeddings-ada-002.csv',\n",
              " '/content/Vector DB & LLM Hackathon/messages.csv',\n",
              " '/content/Vector DB & LLM Hackathon/questions_list_example.csv',\n",
              " '/content/Vector DB & LLM Hackathon/Vector DB & LLM Hackathon - Starter.ipynb']"
            ]
          },
          "execution_count": 3,
          "metadata": {},
          "output_type": "execute_result"
        }
      ],
      "source": [
        "import gdown\n",
        "gdown.download_folder(\"https://drive.google.com/drive/folders/1ic2kX1Vd0xUfBtmbwqXLIAyzBhvSHg7f?usp=drive_link\", quiet=False)"
      ]
    },
    {
      "cell_type": "code",
      "execution_count": 1,
      "metadata": {
        "colab": {
          "base_uri": "https://localhost:8080/",
          "height": 17
        },
        "id": "yL5itBTIKmzq",
        "outputId": "b47e8629-1b83-4b42-8933-46d9183b6904"
      },
      "outputs": [
        {
          "ename": "FileNotFoundError",
          "evalue": "[Errno 2] No such file or directory: 'Users/aswin/Downloads/messages.csv'",
          "output_type": "error",
          "traceback": [
            "\u001b[0;31m---------------------------------------------------------------------------\u001b[0m",
            "\u001b[0;31mFileNotFoundError\u001b[0m                         Traceback (most recent call last)",
            "Cell \u001b[0;32mIn[1], line 2\u001b[0m\n\u001b[1;32m      1\u001b[0m \u001b[39mimport\u001b[39;00m \u001b[39mpandas\u001b[39;00m \u001b[39mas\u001b[39;00m \u001b[39mpd\u001b[39;00m\n\u001b[0;32m----> 2\u001b[0m messages_df \u001b[39m=\u001b[39m pd\u001b[39m.\u001b[39;49mread_csv(\u001b[39m\"\u001b[39;49m\u001b[39mUsers/aswin/Downloads/messages.csv\u001b[39;49m\u001b[39m\"\u001b[39;49m)\n\u001b[1;32m      3\u001b[0m messages_df\u001b[39m.\u001b[39mhead()\n",
            "File \u001b[0;32m~/Documents/quivr/.venv/lib/python3.11/site-packages/pandas/util/_decorators.py:211\u001b[0m, in \u001b[0;36mdeprecate_kwarg.<locals>._deprecate_kwarg.<locals>.wrapper\u001b[0;34m(*args, **kwargs)\u001b[0m\n\u001b[1;32m    209\u001b[0m     \u001b[39melse\u001b[39;00m:\n\u001b[1;32m    210\u001b[0m         kwargs[new_arg_name] \u001b[39m=\u001b[39m new_arg_value\n\u001b[0;32m--> 211\u001b[0m \u001b[39mreturn\u001b[39;00m func(\u001b[39m*\u001b[39;49margs, \u001b[39m*\u001b[39;49m\u001b[39m*\u001b[39;49mkwargs)\n",
            "File \u001b[0;32m~/Documents/quivr/.venv/lib/python3.11/site-packages/pandas/util/_decorators.py:331\u001b[0m, in \u001b[0;36mdeprecate_nonkeyword_arguments.<locals>.decorate.<locals>.wrapper\u001b[0;34m(*args, **kwargs)\u001b[0m\n\u001b[1;32m    325\u001b[0m \u001b[39mif\u001b[39;00m \u001b[39mlen\u001b[39m(args) \u001b[39m>\u001b[39m num_allow_args:\n\u001b[1;32m    326\u001b[0m     warnings\u001b[39m.\u001b[39mwarn(\n\u001b[1;32m    327\u001b[0m         msg\u001b[39m.\u001b[39mformat(arguments\u001b[39m=\u001b[39m_format_argument_list(allow_args)),\n\u001b[1;32m    328\u001b[0m         \u001b[39mFutureWarning\u001b[39;00m,\n\u001b[1;32m    329\u001b[0m         stacklevel\u001b[39m=\u001b[39mfind_stack_level(),\n\u001b[1;32m    330\u001b[0m     )\n\u001b[0;32m--> 331\u001b[0m \u001b[39mreturn\u001b[39;00m func(\u001b[39m*\u001b[39;49margs, \u001b[39m*\u001b[39;49m\u001b[39m*\u001b[39;49mkwargs)\n",
            "File \u001b[0;32m~/Documents/quivr/.venv/lib/python3.11/site-packages/pandas/io/parsers/readers.py:950\u001b[0m, in \u001b[0;36mread_csv\u001b[0;34m(filepath_or_buffer, sep, delimiter, header, names, index_col, usecols, squeeze, prefix, mangle_dupe_cols, dtype, engine, converters, true_values, false_values, skipinitialspace, skiprows, skipfooter, nrows, na_values, keep_default_na, na_filter, verbose, skip_blank_lines, parse_dates, infer_datetime_format, keep_date_col, date_parser, dayfirst, cache_dates, iterator, chunksize, compression, thousands, decimal, lineterminator, quotechar, quoting, doublequote, escapechar, comment, encoding, encoding_errors, dialect, error_bad_lines, warn_bad_lines, on_bad_lines, delim_whitespace, low_memory, memory_map, float_precision, storage_options)\u001b[0m\n\u001b[1;32m    935\u001b[0m kwds_defaults \u001b[39m=\u001b[39m _refine_defaults_read(\n\u001b[1;32m    936\u001b[0m     dialect,\n\u001b[1;32m    937\u001b[0m     delimiter,\n\u001b[0;32m   (...)\u001b[0m\n\u001b[1;32m    946\u001b[0m     defaults\u001b[39m=\u001b[39m{\u001b[39m\"\u001b[39m\u001b[39mdelimiter\u001b[39m\u001b[39m\"\u001b[39m: \u001b[39m\"\u001b[39m\u001b[39m,\u001b[39m\u001b[39m\"\u001b[39m},\n\u001b[1;32m    947\u001b[0m )\n\u001b[1;32m    948\u001b[0m kwds\u001b[39m.\u001b[39mupdate(kwds_defaults)\n\u001b[0;32m--> 950\u001b[0m \u001b[39mreturn\u001b[39;00m _read(filepath_or_buffer, kwds)\n",
            "File \u001b[0;32m~/Documents/quivr/.venv/lib/python3.11/site-packages/pandas/io/parsers/readers.py:605\u001b[0m, in \u001b[0;36m_read\u001b[0;34m(filepath_or_buffer, kwds)\u001b[0m\n\u001b[1;32m    602\u001b[0m _validate_names(kwds\u001b[39m.\u001b[39mget(\u001b[39m\"\u001b[39m\u001b[39mnames\u001b[39m\u001b[39m\"\u001b[39m, \u001b[39mNone\u001b[39;00m))\n\u001b[1;32m    604\u001b[0m \u001b[39m# Create the parser.\u001b[39;00m\n\u001b[0;32m--> 605\u001b[0m parser \u001b[39m=\u001b[39m TextFileReader(filepath_or_buffer, \u001b[39m*\u001b[39;49m\u001b[39m*\u001b[39;49mkwds)\n\u001b[1;32m    607\u001b[0m \u001b[39mif\u001b[39;00m chunksize \u001b[39mor\u001b[39;00m iterator:\n\u001b[1;32m    608\u001b[0m     \u001b[39mreturn\u001b[39;00m parser\n",
            "File \u001b[0;32m~/Documents/quivr/.venv/lib/python3.11/site-packages/pandas/io/parsers/readers.py:1442\u001b[0m, in \u001b[0;36mTextFileReader.__init__\u001b[0;34m(self, f, engine, **kwds)\u001b[0m\n\u001b[1;32m   1439\u001b[0m     \u001b[39mself\u001b[39m\u001b[39m.\u001b[39moptions[\u001b[39m\"\u001b[39m\u001b[39mhas_index_names\u001b[39m\u001b[39m\"\u001b[39m] \u001b[39m=\u001b[39m kwds[\u001b[39m\"\u001b[39m\u001b[39mhas_index_names\u001b[39m\u001b[39m\"\u001b[39m]\n\u001b[1;32m   1441\u001b[0m \u001b[39mself\u001b[39m\u001b[39m.\u001b[39mhandles: IOHandles \u001b[39m|\u001b[39m \u001b[39mNone\u001b[39;00m \u001b[39m=\u001b[39m \u001b[39mNone\u001b[39;00m\n\u001b[0;32m-> 1442\u001b[0m \u001b[39mself\u001b[39m\u001b[39m.\u001b[39m_engine \u001b[39m=\u001b[39m \u001b[39mself\u001b[39;49m\u001b[39m.\u001b[39;49m_make_engine(f, \u001b[39mself\u001b[39;49m\u001b[39m.\u001b[39;49mengine)\n",
            "File \u001b[0;32m~/Documents/quivr/.venv/lib/python3.11/site-packages/pandas/io/parsers/readers.py:1735\u001b[0m, in \u001b[0;36mTextFileReader._make_engine\u001b[0;34m(self, f, engine)\u001b[0m\n\u001b[1;32m   1733\u001b[0m     \u001b[39mif\u001b[39;00m \u001b[39m\"\u001b[39m\u001b[39mb\u001b[39m\u001b[39m\"\u001b[39m \u001b[39mnot\u001b[39;00m \u001b[39min\u001b[39;00m mode:\n\u001b[1;32m   1734\u001b[0m         mode \u001b[39m+\u001b[39m\u001b[39m=\u001b[39m \u001b[39m\"\u001b[39m\u001b[39mb\u001b[39m\u001b[39m\"\u001b[39m\n\u001b[0;32m-> 1735\u001b[0m \u001b[39mself\u001b[39m\u001b[39m.\u001b[39mhandles \u001b[39m=\u001b[39m get_handle(\n\u001b[1;32m   1736\u001b[0m     f,\n\u001b[1;32m   1737\u001b[0m     mode,\n\u001b[1;32m   1738\u001b[0m     encoding\u001b[39m=\u001b[39;49m\u001b[39mself\u001b[39;49m\u001b[39m.\u001b[39;49moptions\u001b[39m.\u001b[39;49mget(\u001b[39m\"\u001b[39;49m\u001b[39mencoding\u001b[39;49m\u001b[39m\"\u001b[39;49m, \u001b[39mNone\u001b[39;49;00m),\n\u001b[1;32m   1739\u001b[0m     compression\u001b[39m=\u001b[39;49m\u001b[39mself\u001b[39;49m\u001b[39m.\u001b[39;49moptions\u001b[39m.\u001b[39;49mget(\u001b[39m\"\u001b[39;49m\u001b[39mcompression\u001b[39;49m\u001b[39m\"\u001b[39;49m, \u001b[39mNone\u001b[39;49;00m),\n\u001b[1;32m   1740\u001b[0m     memory_map\u001b[39m=\u001b[39;49m\u001b[39mself\u001b[39;49m\u001b[39m.\u001b[39;49moptions\u001b[39m.\u001b[39;49mget(\u001b[39m\"\u001b[39;49m\u001b[39mmemory_map\u001b[39;49m\u001b[39m\"\u001b[39;49m, \u001b[39mFalse\u001b[39;49;00m),\n\u001b[1;32m   1741\u001b[0m     is_text\u001b[39m=\u001b[39;49mis_text,\n\u001b[1;32m   1742\u001b[0m     errors\u001b[39m=\u001b[39;49m\u001b[39mself\u001b[39;49m\u001b[39m.\u001b[39;49moptions\u001b[39m.\u001b[39;49mget(\u001b[39m\"\u001b[39;49m\u001b[39mencoding_errors\u001b[39;49m\u001b[39m\"\u001b[39;49m, \u001b[39m\"\u001b[39;49m\u001b[39mstrict\u001b[39;49m\u001b[39m\"\u001b[39;49m),\n\u001b[1;32m   1743\u001b[0m     storage_options\u001b[39m=\u001b[39;49m\u001b[39mself\u001b[39;49m\u001b[39m.\u001b[39;49moptions\u001b[39m.\u001b[39;49mget(\u001b[39m\"\u001b[39;49m\u001b[39mstorage_options\u001b[39;49m\u001b[39m\"\u001b[39;49m, \u001b[39mNone\u001b[39;49;00m),\n\u001b[1;32m   1744\u001b[0m )\n\u001b[1;32m   1745\u001b[0m \u001b[39massert\u001b[39;00m \u001b[39mself\u001b[39m\u001b[39m.\u001b[39mhandles \u001b[39mis\u001b[39;00m \u001b[39mnot\u001b[39;00m \u001b[39mNone\u001b[39;00m\n\u001b[1;32m   1746\u001b[0m f \u001b[39m=\u001b[39m \u001b[39mself\u001b[39m\u001b[39m.\u001b[39mhandles\u001b[39m.\u001b[39mhandle\n",
            "File \u001b[0;32m~/Documents/quivr/.venv/lib/python3.11/site-packages/pandas/io/common.py:856\u001b[0m, in \u001b[0;36mget_handle\u001b[0;34m(path_or_buf, mode, encoding, compression, memory_map, is_text, errors, storage_options)\u001b[0m\n\u001b[1;32m    851\u001b[0m \u001b[39melif\u001b[39;00m \u001b[39misinstance\u001b[39m(handle, \u001b[39mstr\u001b[39m):\n\u001b[1;32m    852\u001b[0m     \u001b[39m# Check whether the filename is to be opened in binary mode.\u001b[39;00m\n\u001b[1;32m    853\u001b[0m     \u001b[39m# Binary mode does not support 'encoding' and 'newline'.\u001b[39;00m\n\u001b[1;32m    854\u001b[0m     \u001b[39mif\u001b[39;00m ioargs\u001b[39m.\u001b[39mencoding \u001b[39mand\u001b[39;00m \u001b[39m\"\u001b[39m\u001b[39mb\u001b[39m\u001b[39m\"\u001b[39m \u001b[39mnot\u001b[39;00m \u001b[39min\u001b[39;00m ioargs\u001b[39m.\u001b[39mmode:\n\u001b[1;32m    855\u001b[0m         \u001b[39m# Encoding\u001b[39;00m\n\u001b[0;32m--> 856\u001b[0m         handle \u001b[39m=\u001b[39m \u001b[39mopen\u001b[39;49m(\n\u001b[1;32m    857\u001b[0m             handle,\n\u001b[1;32m    858\u001b[0m             ioargs\u001b[39m.\u001b[39;49mmode,\n\u001b[1;32m    859\u001b[0m             encoding\u001b[39m=\u001b[39;49mioargs\u001b[39m.\u001b[39;49mencoding,\n\u001b[1;32m    860\u001b[0m             errors\u001b[39m=\u001b[39;49merrors,\n\u001b[1;32m    861\u001b[0m             newline\u001b[39m=\u001b[39;49m\u001b[39m\"\u001b[39;49m\u001b[39m\"\u001b[39;49m,\n\u001b[1;32m    862\u001b[0m         )\n\u001b[1;32m    863\u001b[0m     \u001b[39melse\u001b[39;00m:\n\u001b[1;32m    864\u001b[0m         \u001b[39m# Binary mode\u001b[39;00m\n\u001b[1;32m    865\u001b[0m         handle \u001b[39m=\u001b[39m \u001b[39mopen\u001b[39m(handle, ioargs\u001b[39m.\u001b[39mmode)\n",
            "\u001b[0;31mFileNotFoundError\u001b[0m: [Errno 2] No such file or directory: 'Users/aswin/Downloads/messages.csv'"
          ]
        }
      ],
      "source": [
        "import pandas as pd\n",
        "messages_df = pd.read_csv(\"Users/aswin/Downloads/messages.csv\")\n",
        "messages_df.head()"
      ]
    },
    {
      "cell_type": "code",
      "execution_count": 5,
      "metadata": {
        "colab": {
          "base_uri": "https://localhost:8080/",
          "height": 250
        },
        "id": "Gb3WVLtRJpsN",
        "outputId": "45c548c8-c802-4be6-dbe4-0a0f6a59ce57"
      },
      "outputs": [
        {
          "data": {
            "text/html": [
              "\n",
              "  <style>\n",
              "    pre {\n",
              "        white-space: pre-wrap;\n",
              "    }\n",
              "  </style>\n",
              "  "
            ],
            "text/plain": [
              "<IPython.core.display.HTML object>"
            ]
          },
          "metadata": {},
          "output_type": "display_data"
        },
        {
          "data": {
            "text/html": [
              "\n",
              "  <div id=\"df-2b627228-b019-45bc-9b9b-8ebe12d560d8\">\n",
              "    <div class=\"colab-df-container\">\n",
              "      <div>\n",
              "<style scoped>\n",
              "    .dataframe tbody tr th:only-of-type {\n",
              "        vertical-align: middle;\n",
              "    }\n",
              "\n",
              "    .dataframe tbody tr th {\n",
              "        vertical-align: top;\n",
              "    }\n",
              "\n",
              "    .dataframe thead th {\n",
              "        text-align: right;\n",
              "    }\n",
              "</style>\n",
              "<table border=\"1\" class=\"dataframe\">\n",
              "  <thead>\n",
              "    <tr style=\"text-align: right;\">\n",
              "      <th></th>\n",
              "      <th>__Source</th>\n",
              "      <th>User_ID</th>\n",
              "      <th>Channel_Name</th>\n",
              "      <th>Message_Timestamp</th>\n",
              "      <th>Thread_Timstamp</th>\n",
              "      <th>Channel_ID</th>\n",
              "      <th>__Text</th>\n",
              "    </tr>\n",
              "  </thead>\n",
              "  <tbody>\n",
              "    <tr>\n",
              "      <th>0</th>\n",
              "      <td>threads</td>\n",
              "      <td>U01T78HPG3H</td>\n",
              "      <td>computer-vision</td>\n",
              "      <td>2023-05-18 11:36:44.001949 UTC</td>\n",
              "      <td>2023-05-18 11:30:13.159979 UTC</td>\n",
              "      <td>C026ED0PZEZ</td>\n",
              "      <td>Both &lt;https://roboflow.github.io/supervision/q...</td>\n",
              "    </tr>\n",
              "    <tr>\n",
              "      <th>1</th>\n",
              "      <td>threads</td>\n",
              "      <td>U01T78HPG3H</td>\n",
              "      <td>computer-vision</td>\n",
              "      <td>2023-05-18 11:30:13.159979 UTC</td>\n",
              "      <td>2023-05-18 11:30:13.159979 UTC</td>\n",
              "      <td>C026ED0PZEZ</td>\n",
              "      <td>Would love a package for suggesting and then i...</td>\n",
              "    </tr>\n",
              "    <tr>\n",
              "      <th>2</th>\n",
              "      <td>threads</td>\n",
              "      <td>U04QRD69H8Q</td>\n",
              "      <td>computer-vision</td>\n",
              "      <td>2023-05-18 10:56:33.313369 UTC</td>\n",
              "      <td>2023-05-17 12:35:14.522419 UTC</td>\n",
              "      <td>C026ED0PZEZ</td>\n",
              "      <td>&lt;@U056Q4V4FFC&gt; how about this dataset (for the...</td>\n",
              "    </tr>\n",
              "    <tr>\n",
              "      <th>3</th>\n",
              "      <td>threads</td>\n",
              "      <td>U01J0NVNE1G</td>\n",
              "      <td>mlops-questions-answered</td>\n",
              "      <td>2023-05-18 05:21:04.346819 UTC</td>\n",
              "      <td>2023-05-18 01:08:57.948139 UTC</td>\n",
              "      <td>C015J2Y9RLM</td>\n",
              "      <td>I always oppose the counterargument, why do yo...</td>\n",
              "    </tr>\n",
              "    <tr>\n",
              "      <th>4</th>\n",
              "      <td>threads</td>\n",
              "      <td>U01J0NVNE1G</td>\n",
              "      <td>mlops-questions-answered</td>\n",
              "      <td>2023-05-18 05:19:51.718379 UTC</td>\n",
              "      <td>2023-05-18 01:08:57.948139 UTC</td>\n",
              "      <td>C015J2Y9RLM</td>\n",
              "      <td>I find MLflow more convenient to use. Here are...</td>\n",
              "    </tr>\n",
              "  </tbody>\n",
              "</table>\n",
              "</div>\n",
              "      <button class=\"colab-df-convert\" onclick=\"convertToInteractive('df-2b627228-b019-45bc-9b9b-8ebe12d560d8')\"\n",
              "              title=\"Convert this dataframe to an interactive table.\"\n",
              "              style=\"display:none;\">\n",
              "        \n",
              "  <svg xmlns=\"http://www.w3.org/2000/svg\" height=\"24px\"viewBox=\"0 0 24 24\"\n",
              "       width=\"24px\">\n",
              "    <path d=\"M0 0h24v24H0V0z\" fill=\"none\"/>\n",
              "    <path d=\"M18.56 5.44l.94 2.06.94-2.06 2.06-.94-2.06-.94-.94-2.06-.94 2.06-2.06.94zm-11 1L8.5 8.5l.94-2.06 2.06-.94-2.06-.94L8.5 2.5l-.94 2.06-2.06.94zm10 10l.94 2.06.94-2.06 2.06-.94-2.06-.94-.94-2.06-.94 2.06-2.06.94z\"/><path d=\"M17.41 7.96l-1.37-1.37c-.4-.4-.92-.59-1.43-.59-.52 0-1.04.2-1.43.59L10.3 9.45l-7.72 7.72c-.78.78-.78 2.05 0 2.83L4 21.41c.39.39.9.59 1.41.59.51 0 1.02-.2 1.41-.59l7.78-7.78 2.81-2.81c.8-.78.8-2.07 0-2.86zM5.41 20L4 18.59l7.72-7.72 1.47 1.35L5.41 20z\"/>\n",
              "  </svg>\n",
              "      </button>\n",
              "      \n",
              "  <style>\n",
              "    .colab-df-container {\n",
              "      display:flex;\n",
              "      flex-wrap:wrap;\n",
              "      gap: 12px;\n",
              "    }\n",
              "\n",
              "    .colab-df-convert {\n",
              "      background-color: #E8F0FE;\n",
              "      border: none;\n",
              "      border-radius: 50%;\n",
              "      cursor: pointer;\n",
              "      display: none;\n",
              "      fill: #1967D2;\n",
              "      height: 32px;\n",
              "      padding: 0 0 0 0;\n",
              "      width: 32px;\n",
              "    }\n",
              "\n",
              "    .colab-df-convert:hover {\n",
              "      background-color: #E2EBFA;\n",
              "      box-shadow: 0px 1px 2px rgba(60, 64, 67, 0.3), 0px 1px 3px 1px rgba(60, 64, 67, 0.15);\n",
              "      fill: #174EA6;\n",
              "    }\n",
              "\n",
              "    [theme=dark] .colab-df-convert {\n",
              "      background-color: #3B4455;\n",
              "      fill: #D2E3FC;\n",
              "    }\n",
              "\n",
              "    [theme=dark] .colab-df-convert:hover {\n",
              "      background-color: #434B5C;\n",
              "      box-shadow: 0px 1px 3px 1px rgba(0, 0, 0, 0.15);\n",
              "      filter: drop-shadow(0px 1px 2px rgba(0, 0, 0, 0.3));\n",
              "      fill: #FFFFFF;\n",
              "    }\n",
              "  </style>\n",
              "\n",
              "      <script>\n",
              "        const buttonEl =\n",
              "          document.querySelector('#df-2b627228-b019-45bc-9b9b-8ebe12d560d8 button.colab-df-convert');\n",
              "        buttonEl.style.display =\n",
              "          google.colab.kernel.accessAllowed ? 'block' : 'none';\n",
              "\n",
              "        async function convertToInteractive(key) {\n",
              "          const element = document.querySelector('#df-2b627228-b019-45bc-9b9b-8ebe12d560d8');\n",
              "          const dataTable =\n",
              "            await google.colab.kernel.invokeFunction('convertToInteractive',\n",
              "                                                     [key], {});\n",
              "          if (!dataTable) return;\n",
              "\n",
              "          const docLinkHtml = 'Like what you see? Visit the ' +\n",
              "            '<a target=\"_blank\" href=https://colab.research.google.com/notebooks/data_table.ipynb>data table notebook</a>'\n",
              "            + ' to learn more about interactive tables.';\n",
              "          element.innerHTML = '';\n",
              "          dataTable['output_type'] = 'display_data';\n",
              "          await google.colab.output.renderOutput(dataTable, element);\n",
              "          const docLink = document.createElement('div');\n",
              "          docLink.innerHTML = docLinkHtml;\n",
              "          element.appendChild(docLink);\n",
              "        }\n",
              "      </script>\n",
              "    </div>\n",
              "  </div>\n",
              "  "
            ],
            "text/plain": [
              "  __Source      User_ID              Channel_Name  \\\n",
              "0  threads  U01T78HPG3H           computer-vision   \n",
              "1  threads  U01T78HPG3H           computer-vision   \n",
              "2  threads  U04QRD69H8Q           computer-vision   \n",
              "3  threads  U01J0NVNE1G  mlops-questions-answered   \n",
              "4  threads  U01J0NVNE1G  mlops-questions-answered   \n",
              "\n",
              "                Message_Timestamp                 Thread_Timstamp  \\\n",
              "0  2023-05-18 11:36:44.001949 UTC  2023-05-18 11:30:13.159979 UTC   \n",
              "1  2023-05-18 11:30:13.159979 UTC  2023-05-18 11:30:13.159979 UTC   \n",
              "2  2023-05-18 10:56:33.313369 UTC  2023-05-17 12:35:14.522419 UTC   \n",
              "3  2023-05-18 05:21:04.346819 UTC  2023-05-18 01:08:57.948139 UTC   \n",
              "4  2023-05-18 05:19:51.718379 UTC  2023-05-18 01:08:57.948139 UTC   \n",
              "\n",
              "    Channel_ID                                             __Text  \n",
              "0  C026ED0PZEZ  Both <https://roboflow.github.io/supervision/q...  \n",
              "1  C026ED0PZEZ  Would love a package for suggesting and then i...  \n",
              "2  C026ED0PZEZ  <@U056Q4V4FFC> how about this dataset (for the...  \n",
              "3  C015J2Y9RLM  I always oppose the counterargument, why do yo...  \n",
              "4  C015J2Y9RLM  I find MLflow more convenient to use. Here are...  "
            ]
          },
          "execution_count": 5,
          "metadata": {},
          "output_type": "execute_result"
        }
      ],
      "source": [
        "# Raw messages\n",
        ")"
      ]
    },
    {
      "cell_type": "code",
      "execution_count": 6,
      "metadata": {
        "colab": {
          "base_uri": "https://localhost:8080/",
          "height": 206
        },
        "id": "t2DI96m7OOjK",
        "outputId": "811fdd3d-b753-42de-f469-59b4849028aa"
      },
      "outputs": [
        {
          "data": {
            "text/html": [
              "\n",
              "  <style>\n",
              "    pre {\n",
              "        white-space: pre-wrap;\n",
              "    }\n",
              "  </style>\n",
              "  "
            ],
            "text/plain": [
              "<IPython.core.display.HTML object>"
            ]
          },
          "metadata": {},
          "output_type": "display_data"
        },
        {
          "data": {
            "text/html": [
              "\n",
              "  <div id=\"df-d323db86-ec42-4246-be9c-005cfd4311cb\">\n",
              "    <div class=\"colab-df-container\">\n",
              "      <div>\n",
              "<style scoped>\n",
              "    .dataframe tbody tr th:only-of-type {\n",
              "        vertical-align: middle;\n",
              "    }\n",
              "\n",
              "    .dataframe tbody tr th {\n",
              "        vertical-align: top;\n",
              "    }\n",
              "\n",
              "    .dataframe thead th {\n",
              "        text-align: right;\n",
              "    }\n",
              "</style>\n",
              "<table border=\"1\" class=\"dataframe\">\n",
              "  <thead>\n",
              "    <tr style=\"text-align: right;\">\n",
              "      <th></th>\n",
              "      <th>__Source</th>\n",
              "      <th>User_ID</th>\n",
              "      <th>Channel_Name</th>\n",
              "      <th>Message_Timestamp</th>\n",
              "      <th>Thread_Timstamp</th>\n",
              "      <th>Channel_ID</th>\n",
              "      <th>__Text</th>\n",
              "    </tr>\n",
              "  </thead>\n",
              "  <tbody>\n",
              "    <tr>\n",
              "      <th>3</th>\n",
              "      <td>threads</td>\n",
              "      <td>U01J0NVNE1G</td>\n",
              "      <td>mlops-questions-answered</td>\n",
              "      <td>2023-05-18 05:21:04.346819 UTC</td>\n",
              "      <td>2023-05-18 01:08:57.948139 UTC</td>\n",
              "      <td>C015J2Y9RLM</td>\n",
              "      <td>I always oppose the counterargument, why do yo...</td>\n",
              "    </tr>\n",
              "    <tr>\n",
              "      <th>4</th>\n",
              "      <td>threads</td>\n",
              "      <td>U01J0NVNE1G</td>\n",
              "      <td>mlops-questions-answered</td>\n",
              "      <td>2023-05-18 05:19:51.718379 UTC</td>\n",
              "      <td>2023-05-18 01:08:57.948139 UTC</td>\n",
              "      <td>C015J2Y9RLM</td>\n",
              "      <td>I find MLflow more convenient to use. Here are...</td>\n",
              "    </tr>\n",
              "    <tr>\n",
              "      <th>5</th>\n",
              "      <td>threads</td>\n",
              "      <td>U01CRVDS4NA</td>\n",
              "      <td>mlops-questions-answered</td>\n",
              "      <td>2023-05-18 05:14:52.514189 UTC</td>\n",
              "      <td>2023-05-16 23:22:04.332479 UTC</td>\n",
              "      <td>C015J2Y9RLM</td>\n",
              "      <td>I just built some demos with it. The developer...</td>\n",
              "    </tr>\n",
              "    <tr>\n",
              "      <th>7</th>\n",
              "      <td>messages</td>\n",
              "      <td>U01VCA57PD0</td>\n",
              "      <td>mlops-questions-answered</td>\n",
              "      <td>2023-05-18 01:08:57.948139 UTC</td>\n",
              "      <td>2023-05-18 01:08:57.948139 UTC</td>\n",
              "      <td>C015J2Y9RLM</td>\n",
              "      <td>These days I'm feeling very tempted to roll my...</td>\n",
              "    </tr>\n",
              "    <tr>\n",
              "      <th>21</th>\n",
              "      <td>messages</td>\n",
              "      <td>U015BH45ZK6</td>\n",
              "      <td>mlops-questions-answered</td>\n",
              "      <td>2023-05-17 14:56:59.775629 UTC</td>\n",
              "      <td>2023-05-17 14:56:59.775629 UTC</td>\n",
              "      <td>C015J2Y9RLM</td>\n",
              "      <td>I ran into a problem downloading files from Az...</td>\n",
              "    </tr>\n",
              "  </tbody>\n",
              "</table>\n",
              "</div>\n",
              "      <button class=\"colab-df-convert\" onclick=\"convertToInteractive('df-d323db86-ec42-4246-be9c-005cfd4311cb')\"\n",
              "              title=\"Convert this dataframe to an interactive table.\"\n",
              "              style=\"display:none;\">\n",
              "        \n",
              "  <svg xmlns=\"http://www.w3.org/2000/svg\" height=\"24px\"viewBox=\"0 0 24 24\"\n",
              "       width=\"24px\">\n",
              "    <path d=\"M0 0h24v24H0V0z\" fill=\"none\"/>\n",
              "    <path d=\"M18.56 5.44l.94 2.06.94-2.06 2.06-.94-2.06-.94-.94-2.06-.94 2.06-2.06.94zm-11 1L8.5 8.5l.94-2.06 2.06-.94-2.06-.94L8.5 2.5l-.94 2.06-2.06.94zm10 10l.94 2.06.94-2.06 2.06-.94-2.06-.94-.94-2.06-.94 2.06-2.06.94z\"/><path d=\"M17.41 7.96l-1.37-1.37c-.4-.4-.92-.59-1.43-.59-.52 0-1.04.2-1.43.59L10.3 9.45l-7.72 7.72c-.78.78-.78 2.05 0 2.83L4 21.41c.39.39.9.59 1.41.59.51 0 1.02-.2 1.41-.59l7.78-7.78 2.81-2.81c.8-.78.8-2.07 0-2.86zM5.41 20L4 18.59l7.72-7.72 1.47 1.35L5.41 20z\"/>\n",
              "  </svg>\n",
              "      </button>\n",
              "      \n",
              "  <style>\n",
              "    .colab-df-container {\n",
              "      display:flex;\n",
              "      flex-wrap:wrap;\n",
              "      gap: 12px;\n",
              "    }\n",
              "\n",
              "    .colab-df-convert {\n",
              "      background-color: #E8F0FE;\n",
              "      border: none;\n",
              "      border-radius: 50%;\n",
              "      cursor: pointer;\n",
              "      display: none;\n",
              "      fill: #1967D2;\n",
              "      height: 32px;\n",
              "      padding: 0 0 0 0;\n",
              "      width: 32px;\n",
              "    }\n",
              "\n",
              "    .colab-df-convert:hover {\n",
              "      background-color: #E2EBFA;\n",
              "      box-shadow: 0px 1px 2px rgba(60, 64, 67, 0.3), 0px 1px 3px 1px rgba(60, 64, 67, 0.15);\n",
              "      fill: #174EA6;\n",
              "    }\n",
              "\n",
              "    [theme=dark] .colab-df-convert {\n",
              "      background-color: #3B4455;\n",
              "      fill: #D2E3FC;\n",
              "    }\n",
              "\n",
              "    [theme=dark] .colab-df-convert:hover {\n",
              "      background-color: #434B5C;\n",
              "      box-shadow: 0px 1px 3px 1px rgba(0, 0, 0, 0.15);\n",
              "      filter: drop-shadow(0px 1px 2px rgba(0, 0, 0, 0.3));\n",
              "      fill: #FFFFFF;\n",
              "    }\n",
              "  </style>\n",
              "\n",
              "      <script>\n",
              "        const buttonEl =\n",
              "          document.querySelector('#df-d323db86-ec42-4246-be9c-005cfd4311cb button.colab-df-convert');\n",
              "        buttonEl.style.display =\n",
              "          google.colab.kernel.accessAllowed ? 'block' : 'none';\n",
              "\n",
              "        async function convertToInteractive(key) {\n",
              "          const element = document.querySelector('#df-d323db86-ec42-4246-be9c-005cfd4311cb');\n",
              "          const dataTable =\n",
              "            await google.colab.kernel.invokeFunction('convertToInteractive',\n",
              "                                                     [key], {});\n",
              "          if (!dataTable) return;\n",
              "\n",
              "          const docLinkHtml = 'Like what you see? Visit the ' +\n",
              "            '<a target=\"_blank\" href=https://colab.research.google.com/notebooks/data_table.ipynb>data table notebook</a>'\n",
              "            + ' to learn more about interactive tables.';\n",
              "          element.innerHTML = '';\n",
              "          dataTable['output_type'] = 'display_data';\n",
              "          await google.colab.output.renderOutput(dataTable, element);\n",
              "          const docLink = document.createElement('div');\n",
              "          docLink.innerHTML = docLinkHtml;\n",
              "          element.appendChild(docLink);\n",
              "        }\n",
              "      </script>\n",
              "    </div>\n",
              "  </div>\n",
              "  "
            ],
            "text/plain": [
              "    __Source      User_ID              Channel_Name  \\\n",
              "3    threads  U01J0NVNE1G  mlops-questions-answered   \n",
              "4    threads  U01J0NVNE1G  mlops-questions-answered   \n",
              "5    threads  U01CRVDS4NA  mlops-questions-answered   \n",
              "7   messages  U01VCA57PD0  mlops-questions-answered   \n",
              "21  messages  U015BH45ZK6  mlops-questions-answered   \n",
              "\n",
              "                 Message_Timestamp                 Thread_Timstamp  \\\n",
              "3   2023-05-18 05:21:04.346819 UTC  2023-05-18 01:08:57.948139 UTC   \n",
              "4   2023-05-18 05:19:51.718379 UTC  2023-05-18 01:08:57.948139 UTC   \n",
              "5   2023-05-18 05:14:52.514189 UTC  2023-05-16 23:22:04.332479 UTC   \n",
              "7   2023-05-18 01:08:57.948139 UTC  2023-05-18 01:08:57.948139 UTC   \n",
              "21  2023-05-17 14:56:59.775629 UTC  2023-05-17 14:56:59.775629 UTC   \n",
              "\n",
              "     Channel_ID                                             __Text  \n",
              "3   C015J2Y9RLM  I always oppose the counterargument, why do yo...  \n",
              "4   C015J2Y9RLM  I find MLflow more convenient to use. Here are...  \n",
              "5   C015J2Y9RLM  I just built some demos with it. The developer...  \n",
              "7   C015J2Y9RLM  These days I'm feeling very tempted to roll my...  \n",
              "21  C015J2Y9RLM  I ran into a problem downloading files from Az...  "
            ]
          },
          "execution_count": 6,
          "metadata": {},
          "output_type": "execute_result"
        }
      ],
      "source": [
        "# Get all data for specific channel\n",
        "df_mlops_questions_answered = messages_df[messages_df[\"Channel_Name\"]==\"mlops-questions-answered\"]\n",
        "df_mlops_questions_answered.head()"
      ]
    },
    {
      "cell_type": "code",
      "execution_count": 7,
      "metadata": {
        "colab": {
          "base_uri": "https://localhost:8080/",
          "height": 35
        },
        "id": "NhceGvxtOUff",
        "outputId": "e60f0bd8-3b20-40f9-a906-c6a467ec2a7c"
      },
      "outputs": [
        {
          "data": {
            "text/html": [
              "\n",
              "  <style>\n",
              "    pre {\n",
              "        white-space: pre-wrap;\n",
              "    }\n",
              "  </style>\n",
              "  "
            ],
            "text/plain": [
              "<IPython.core.display.HTML object>"
            ]
          },
          "metadata": {},
          "output_type": "display_data"
        },
        {
          "name": "stdout",
          "output_type": "stream",
          "text": [
            "Number of conversations: 2086\n"
          ]
        }
      ],
      "source": [
        "# Get the count of conversations\n",
        "print(f\"Number of conversations: {len(df_mlops_questions_answered.groupby(['Thread_Timstamp']))}\")"
      ]
    },
    {
      "cell_type": "code",
      "execution_count": 8,
      "metadata": {
        "colab": {
          "base_uri": "https://localhost:8080/",
          "height": 1000
        },
        "id": "tBg-2ZBvOZ8p",
        "outputId": "6e6b2b28-3183-4b06-d73c-06b392a08120"
      },
      "outputs": [
        {
          "data": {
            "text/html": [
              "\n",
              "  <style>\n",
              "    pre {\n",
              "        white-space: pre-wrap;\n",
              "    }\n",
              "  </style>\n",
              "  "
            ],
            "text/plain": [
              "<IPython.core.display.HTML object>"
            ]
          },
          "metadata": {},
          "output_type": "display_data"
        },
        {
          "data": {
            "text/html": [
              "<h2>Channel: mlops-questions-answered / conversation 2020-06-19 20:44:41.0065 UTC </h2><hr/>\n",
              "<table>\n",
              "<tr><td>U011NTHUKEF</td><td>We use a lot of TPOT library. The main advantage is that it does hyperparameter tunning and also deals with preprocessing steps as well... downside is that it works mostly with scikit-learn algorithms. But there is a small hack you can do to make it work with many algorithms... make a new algo class that inherits both from sklearn BaseEstimators and your algo (Catboost, for example, or Pygams)</td></tr><tr><td>U015CHWG25B</td><td>Aha, I’ve heard that it’s really good!</td></tr><tr><td>U0150LZ578X</td><td>For anyone already using other Kubeflow components, Katib is relatively easy to work with <https://github.com/kubeflow/katib>\n",
              "\n",
              "It parallelizes trials across k8s pods and provides a web UI to visualize the hyperparameter space for each training history!</td></tr><tr><td>U015CHWG25B</td><td><@U013CL3GTB3> Thank you! Looks like this is an entire ML platform rather than just a hyperparameter tuning tool :thinking_face: </td></tr><tr><td>U013CL3GTB3</td><td>Polyaxon is another good one! <https://medium.com/polyaxon/polyaxon-0-0-2-23964df6ef7e|https://medium.com/polyaxon/polyaxon-0-0-2-23964df6ef7e></td></tr><tr><td>U015CHWG25B</td><td>At some point we reviewed about 15 hyperparameter tuning tools in order to choose one that answers our needs. We stopped at NNI from Microsoft (<https://github.com/microsoft/Nni|https://github.com/microsoft/Nni>). This tool is designed to run hyperparameter tuning in several parallel jobs. Unlike many other tools, it supports a lot of different algorithms of hyperparameter tuning. It has a decent UI. Plus, it's OSS from Microsoft :) Do you know other tools which answer our criteria?</td></tr><tr><td>U015CHWG25B</td><td>I want to run hyperparameter tuning on several machines in parallel and track the process in Web UI. What is the best tool for that?</td></tr></table>\n",
              "<hr/><br/>"
            ],
            "text/plain": [
              "<IPython.core.display.HTML object>"
            ]
          },
          "metadata": {},
          "output_type": "display_data"
        },
        {
          "data": {
            "text/html": [
              "<h2>Channel: mlops-questions-answered / conversation 2020-06-19 20:45:07.0067 UTC </h2><hr/>\n",
              "<table>\n",
              "<tr><td>U011NTHUKEF</td><td>AirFlow is a great tool. We use it a lot. When we work on a AWS environment, we use AWS stepfunctions which has its own Data Science SDK. Works like a charm!</td></tr><tr><td>U015CHWG25B</td><td>This is a clear usecase for pipeline tools. There are plenty of them out there, providing various features and UI capabilities. Currently, for our projects we use AirFlow. Which pipeline tools do you prefer and why?</td></tr><tr><td>U015CHWG25B</td><td>OK, I have a model of decent quality. Now I want to automate daily collecting data, retraining the model, and redeployment. How do I do that?</td></tr></table>\n",
              "<hr/><br/>"
            ],
            "text/plain": [
              "<IPython.core.display.HTML object>"
            ]
          },
          "metadata": {},
          "output_type": "display_data"
        },
        {
          "data": {
            "text/html": [
              "<h2>Channel: mlops-questions-answered / conversation 2020-06-24 00:53:14.0183 UTC </h2><hr/>\n",
              "<table>\n",
              "<tr><td>U015CHWG25B</td><td>Sure, thank you! :pray:</td></tr><tr><td>U016A3RAL5N</td><td><@U015CHWG25B> thanks for including us in your list. If you need any support lest us know</td></tr></table>\n",
              "<hr/><br/>"
            ],
            "text/plain": [
              "<IPython.core.display.HTML object>"
            ]
          },
          "metadata": {},
          "output_type": "display_data"
        },
        {
          "data": {
            "text/html": [
              "<h2>Channel: mlops-questions-answered / conversation 2020-06-24 17:51:24.026 UTC </h2><hr/>\n",
              "<table>\n",
              "<tr><td>UV92GMLF4</td><td><@U014Z58NT25> Sorry for the late reply:\n",
              "\n",
              "1. It's determined by marketing. The thing that we do it's just to highlight who is in the border. \n",
              "2. We used only numericals in that time, but OHE work fine also. \n",
              "3. At the that time, we didn't used any specific tool. I think today it's doable to do in matplotlib if you transform in 2D array those records from the cluster. </td></tr><tr><td>U012YQULW4X</td><td>you seem to treat it as a technical problem (automate the encoding). This issue points you to a potentially significant change in the input data so you want to notice and manually investigate. For detection, you can check tools for data monitoring like <https://github.com/great-expectations/great_expectations> or tensorflow data monitoring. They should be able to check feature cardinality (number of segments).\n",
              "\n",
              "Segments: Do I understand you correctly that the marketing team changed the logic for the segment variable e.g. an prior \"A\" customer might now be a \"B\" customer?\n",
              "Case A: Feature is not important. Fix encoding bug and move on.\n",
              "Case B: The feature is important but not a lot of customers migrated their segment. Fix encoding bug and move on.\n",
              "Case C:  Feature is important and the logic is very different or many people migrated. This is possibly a breaking change in the data and you need a migration plan (discard training data with old logic, not use the feature for the migration duration etc):\n",
              "\n",
              "you mention: \"everytime this happens\". That should not happen regularly. If it does, you have to stop using the feature/understand better what they do and what it means. Constantly changing data definitions make the feature dangerous to use.</td></tr><tr><td>UP3T8K9M5</td><td>maybe <@U012YQULW4X> can also help as she has some experience with monitoring and will be talking to us about it during this week’s meetup</td></tr><tr><td>U014Z58NT25</td><td>And thanks for the answers guys! It really helps even just to talk about the problem</td></tr><tr><td>U014Z58NT25</td><td><@UV92GMLF4> the clusters were determined by the marketing in the sense of \"good cluster/bad cluster\" or they even gave you a centroid for that? Could you use anything but numericals for KMeans? Essentially I know you can't, for you have to deal with distances. But someone has once told me you can sometimes work with binary/ordinal using KMeans as well.\n",
              "Also, did you have anything (besides your own code and CLI) for monitoring those jumpers? Any specific tools or dashboards</td></tr><tr><td>U014Z58NT25</td><td><@U013CL3GTB3> What happens is that as of now I have, say, 5 customer segments. On the data that I extract tomorrow, I might have 6, cause this customer segmentation is something still being created by the business, and I won't know it in advance.\n",
              "\n",
              "I can extract some meaning from these classes and put them into an ascending order (of integers, for example). And yes, I wanna use them for my recsys at the end of the day.\n",
              "\n",
              "EDIT: typo</td></tr><tr><td>UP3T8K9M5</td><td><@U0156CADGJG> might have something to say about this too</td></tr><tr><td>UV92GMLF4</td><td>Those guys I removed from the clusters and put them in another cluster (determined by marketing).\n",
              "\n",
              "Was totally primitive and I was using the KMeans, but the general idea it's that.</td></tr><tr><td>UV92GMLF4</td><td>In pink I got the \"jumpers\".</td></tr><tr><td>UV92GMLF4</td><td>Those are the clusters (just for simplification)</td></tr><tr><td>UV92GMLF4</td><td>Hey Murilo! What's up!\n",
              "\n",
              "I worked with that in a long time ago (2015) so maybe my answer it's outdated.\n",
              "\n",
              "In my case, I had fixed clusters (due to the fact those clusters where determined by Marketing); so the only thing that I monitor in this case was 1) the Centroid (to check if there's some changes in the centroid (drift) and 2) in the instances that I call \"jumpers\", i.e. records that shifted to some point of clusters boarders.\n",
              "\n",
              "Like this.</td></tr><tr><td>U013CL3GTB3</td><td>• Are these segment features known in advance? Or are they being generated on the fly? Are they different every time? Is it possible to know the values in advance? \n",
              "• can you clarify what you mean by “encoding” ? Are you given a string and want to turn it into a int or float? I’m assuming you use it as a feature for the recommender system.</td></tr><tr><td>U014Z58NT25</td><td>Hey guys! In the matter of concept drifting, I have a clustering algorithm (that is mainly a recommendation system for our business) that takes into account a categorical variable called \"Customer Segment\", that is translated in an ordinal fashion - i.e. \"better\" clients go to a higher number. Due to this new scenario we're going through, some new segments showed up and everytime this happens I have to manually determine how to encode them. Is there a way to automate this? Or even tools to identify when it happens would already help me out a lot. Thanks!</td></tr></table>\n",
              "<hr/><br/>"
            ],
            "text/plain": [
              "<IPython.core.display.HTML object>"
            ]
          },
          "metadata": {},
          "output_type": "display_data"
        },
        {
          "data": {
            "text/html": [
              "<h2>Channel: mlops-questions-answered / conversation 2020-06-27 19:23:54.0496 UTC </h2><hr/>\n",
              "<table>\n",
              "<tr><td>U016FCTSDGS</td><td>Few answers from our experience:\n",
              "1. We keep Airflow stack separate from DAG Projects. We also have a single repo per DAG project that gets auto-named and deployed in such a way that Airflow picks it up to sync in the DAG folder.  We also have a DAG that runs frequently to scan and ingest the new DAG(s) from the DAG Projects.\n",
              "2. If the question is long running tasks we spin up AWS Batch or AWS EMR depending on the need. If the question is how to interject DAG updates if a long running task is executing then no solution here other than on the next run the task(s)/DAG will get updated.\n",
              "3. Did not know about the *`PythonVirtualenvOperator`*  or would have used it. We just installed custom python packages to a temp directory and added to Python path, then deleted the folder in the last task for cleanup.\n",
              "4. Haven't used Docker Operator.\n",
              "5. Let me know if you find one!</td></tr><tr><td>U015CHWG25B</td><td>I can’t answer all your questions one by one, but I can share the basics of our approach.\n",
              "• Regarding deployment: We use Git to deploy DAGs. In our case, we have a dedicated repo for DAGs, and AirFlow installation polls this repo every minute and redeploys DAGs if necessary. Thus your DAGs are separated from your Airflow service.\n",
              "• Regarding tasks: We chose to make our own operator (as we have an ML platform with some specificity) based on DockerOperator. Containerisation of each step gives you way more freedom, especially in complex pipelines when you may need even different versions of CUDA for different steps. \n",
              "</td></tr><tr><td>U013K7876BF</td><td>thanks for the responses <@U013CL3GTB3> and <@U0158N59C8H>\n",
              "Flux sounds great, but I’m going need to work with a push model (we have some constraints in our system -  we can’t access the repo from the cloud)\n",
              "If i’m pushing the scheduler just to kick off a `KubernetesPodOperator`, Airflow feels very similar to Argo.</td></tr><tr><td>UP3T8K9M5</td><td>hmmm yeah i also would like to know this.</td></tr><tr><td>U0158N59C8H</td><td>Nope. I mean I use argo quite a bit via kubeflow pipelines. I used airflow too. Just wanting to get more opinions on the diff solutions.\n",
              "\n",
              "Esp Argo vs Tekton. As they are very closely related.</td></tr><tr><td>UP3T8K9M5</td><td>I also remember <@U0158N59C8H> was asking about Argo a while back. Were you able to get any info that could help us? </td></tr><tr><td>U013CL3GTB3</td><td>1. I would launch the task in a pod using the kubernetesPodOperator. And for pushing your dags, use gitops! You can point your airflow deployment to a git branch. This requires flux and some other stuff to be in place.\n",
              "2. Not sure what you mean by long running airflow service? Are you saying how to update a task independent of airflow itself like the web server or scheduler?  - if you're launching your tasks in pods you leave the execution logic to the docker container running in the pod and the orchestration logic to airflow. I would also recommend using the KubernetesExecutor alongside the KubernetesPodOperator. \n",
              "3. The kubernetesPodOperator also solves this problem as you have complete control over the runtime environment, resources, etc - the container has everything it needs to run the code\n",
              "4. Haven’t used the docker operator but It sounds like it’s more general than just python code. And will allow you to containerize your code which deals with the dependency issue.\n",
              "5. My company BenevolentAI Is about to publish an article about some lessons we learned using airflow so I’ll post it to the community when it’s out.\n",
              "Also me and <@UP3T8K9M5> are planning on doing a coffee session on pipelines - and airflow will be one of them. You mentioned Argo, that’s also another good option as it’s native to kubernetes which is nice and also has other benefits.</td></tr><tr><td>U013K7876BF</td><td>Hey everyone\n",
              "We’re looking for productionize some data engineering pipelines but we really want this run on Airflow and have a proper CI/CD pipeline.\n",
              "I have a couple of questions, and I’m hoping some of you may have experience and knowledge about these topics.\n",
              "1. Would you deploy the Airflow task along with the Airflow service itself? How else would you push your DAGs from source control into the dags folder of Airflow?\n",
              "2. Is there an elegant way to update the tasks separately from a long running Airflow service?\n",
              "3. Given that not all tasks have the same python dependencies, how does dependency management work? Do you install all of the dependencies with Airflow itself, or do you use `PythonVirtualenvOperator` to create a virtual env for each step in the dag?\n",
              "4. How difficult is monitoring and debugging when using `airflow.operators.docker_operator`? we can package each step in our data engineering pipeline in an .py file with a `main` and create a container. Does it have clear benefits over the `PythonVirtualenvOperator?`\n",
              "5. If there are good resource on airflow deployment strategies, I’d love to read more. I was looking at Argo <https://github.com/argoproj/argo> and if help have experience with Argo vs Airflow I’d love to hear that too.\n",
              "Thanks!</td></tr></table>\n",
              "<hr/><br/>"
            ],
            "text/plain": [
              "<IPython.core.display.HTML object>"
            ]
          },
          "metadata": {},
          "output_type": "display_data"
        }
      ],
      "source": [
        "# Iterate through conversations\n",
        "from IPython.display import HTML, display\n",
        "\n",
        "NUM_CONVERSATIONS_TO_PRINT=5\n",
        "current_conversation=0\n",
        "for (channel_name, thread_id), conv in df_mlops_questions_answered.groupby(['Channel_Name', 'Thread_Timstamp']):\n",
        "  html = f\"<h2>Channel: {channel_name} / conversation {thread_id} </h2><hr/>\\n<table>\\n\"\n",
        "  for index, row in conv.iterrows():\n",
        "    html+= f'<tr><td>{row[\"User_ID\"]}</td><td>{row[\"__Text\"]}</td></tr>'\n",
        "  html += f\"</table>\\n<hr/><br/>\"\n",
        "  display(HTML(html))\n",
        "  current_conversation+=1\n",
        "  if current_conversation>=NUM_CONVERSATIONS_TO_PRINT:\n",
        "    break"
      ]
    },
    {
      "cell_type": "code",
      "execution_count": 9,
      "metadata": {
        "colab": {
          "base_uri": "https://localhost:8080/",
          "height": 206
        },
        "id": "8tKT42ffOZ57",
        "outputId": "f67e0c15-541a-4801-c1b5-4a36fc7d335e"
      },
      "outputs": [
        {
          "data": {
            "text/html": [
              "\n",
              "  <style>\n",
              "    pre {\n",
              "        white-space: pre-wrap;\n",
              "    }\n",
              "  </style>\n",
              "  "
            ],
            "text/plain": [
              "<IPython.core.display.HTML object>"
            ]
          },
          "metadata": {},
          "output_type": "display_data"
        },
        {
          "data": {
            "text/html": [
              "\n",
              "  <div id=\"df-e4958f45-9cba-48c8-a205-912cd2029960\">\n",
              "    <div class=\"colab-df-container\">\n",
              "      <div>\n",
              "<style scoped>\n",
              "    .dataframe tbody tr th:only-of-type {\n",
              "        vertical-align: middle;\n",
              "    }\n",
              "\n",
              "    .dataframe tbody tr th {\n",
              "        vertical-align: top;\n",
              "    }\n",
              "\n",
              "    .dataframe thead th {\n",
              "        text-align: right;\n",
              "    }\n",
              "</style>\n",
              "<table border=\"1\" class=\"dataframe\">\n",
              "  <thead>\n",
              "    <tr style=\"text-align: right;\">\n",
              "      <th></th>\n",
              "      <th>Unnamed: 0</th>\n",
              "      <th>message_id</th>\n",
              "      <th>embedding</th>\n",
              "    </tr>\n",
              "  </thead>\n",
              "  <tbody>\n",
              "    <tr>\n",
              "      <th>0</th>\n",
              "      <td>0</td>\n",
              "      <td>2020-03-17 22:52:45.0174 UTC</td>\n",
              "      <td>[-0.043248970061540604, -0.007734753657132387,...</td>\n",
              "    </tr>\n",
              "    <tr>\n",
              "      <th>1</th>\n",
              "      <td>1</td>\n",
              "      <td>2020-03-17 22:58:47.0175 UTC</td>\n",
              "      <td>[-0.03162849321961403, 0.0018300998490303755, ...</td>\n",
              "    </tr>\n",
              "    <tr>\n",
              "      <th>2</th>\n",
              "      <td>2</td>\n",
              "      <td>2020-03-18 06:39:01.0184 UTC</td>\n",
              "      <td>[-0.021394122391939163, -0.013377929106354713,...</td>\n",
              "    </tr>\n",
              "    <tr>\n",
              "      <th>3</th>\n",
              "      <td>3</td>\n",
              "      <td>2020-03-18 06:40:19.0195 UTC</td>\n",
              "      <td>[0.014829986728727818, -0.01779334992170334, 0...</td>\n",
              "    </tr>\n",
              "    <tr>\n",
              "      <th>4</th>\n",
              "      <td>4</td>\n",
              "      <td>2020-03-18 06:40:58.0198 UTC</td>\n",
              "      <td>[0.013494313694536686, -0.009085348807275295, ...</td>\n",
              "    </tr>\n",
              "  </tbody>\n",
              "</table>\n",
              "</div>\n",
              "      <button class=\"colab-df-convert\" onclick=\"convertToInteractive('df-e4958f45-9cba-48c8-a205-912cd2029960')\"\n",
              "              title=\"Convert this dataframe to an interactive table.\"\n",
              "              style=\"display:none;\">\n",
              "        \n",
              "  <svg xmlns=\"http://www.w3.org/2000/svg\" height=\"24px\"viewBox=\"0 0 24 24\"\n",
              "       width=\"24px\">\n",
              "    <path d=\"M0 0h24v24H0V0z\" fill=\"none\"/>\n",
              "    <path d=\"M18.56 5.44l.94 2.06.94-2.06 2.06-.94-2.06-.94-.94-2.06-.94 2.06-2.06.94zm-11 1L8.5 8.5l.94-2.06 2.06-.94-2.06-.94L8.5 2.5l-.94 2.06-2.06.94zm10 10l.94 2.06.94-2.06 2.06-.94-2.06-.94-.94-2.06-.94 2.06-2.06.94z\"/><path d=\"M17.41 7.96l-1.37-1.37c-.4-.4-.92-.59-1.43-.59-.52 0-1.04.2-1.43.59L10.3 9.45l-7.72 7.72c-.78.78-.78 2.05 0 2.83L4 21.41c.39.39.9.59 1.41.59.51 0 1.02-.2 1.41-.59l7.78-7.78 2.81-2.81c.8-.78.8-2.07 0-2.86zM5.41 20L4 18.59l7.72-7.72 1.47 1.35L5.41 20z\"/>\n",
              "  </svg>\n",
              "      </button>\n",
              "      \n",
              "  <style>\n",
              "    .colab-df-container {\n",
              "      display:flex;\n",
              "      flex-wrap:wrap;\n",
              "      gap: 12px;\n",
              "    }\n",
              "\n",
              "    .colab-df-convert {\n",
              "      background-color: #E8F0FE;\n",
              "      border: none;\n",
              "      border-radius: 50%;\n",
              "      cursor: pointer;\n",
              "      display: none;\n",
              "      fill: #1967D2;\n",
              "      height: 32px;\n",
              "      padding: 0 0 0 0;\n",
              "      width: 32px;\n",
              "    }\n",
              "\n",
              "    .colab-df-convert:hover {\n",
              "      background-color: #E2EBFA;\n",
              "      box-shadow: 0px 1px 2px rgba(60, 64, 67, 0.3), 0px 1px 3px 1px rgba(60, 64, 67, 0.15);\n",
              "      fill: #174EA6;\n",
              "    }\n",
              "\n",
              "    [theme=dark] .colab-df-convert {\n",
              "      background-color: #3B4455;\n",
              "      fill: #D2E3FC;\n",
              "    }\n",
              "\n",
              "    [theme=dark] .colab-df-convert:hover {\n",
              "      background-color: #434B5C;\n",
              "      box-shadow: 0px 1px 3px 1px rgba(0, 0, 0, 0.15);\n",
              "      filter: drop-shadow(0px 1px 2px rgba(0, 0, 0, 0.3));\n",
              "      fill: #FFFFFF;\n",
              "    }\n",
              "  </style>\n",
              "\n",
              "      <script>\n",
              "        const buttonEl =\n",
              "          document.querySelector('#df-e4958f45-9cba-48c8-a205-912cd2029960 button.colab-df-convert');\n",
              "        buttonEl.style.display =\n",
              "          google.colab.kernel.accessAllowed ? 'block' : 'none';\n",
              "\n",
              "        async function convertToInteractive(key) {\n",
              "          const element = document.querySelector('#df-e4958f45-9cba-48c8-a205-912cd2029960');\n",
              "          const dataTable =\n",
              "            await google.colab.kernel.invokeFunction('convertToInteractive',\n",
              "                                                     [key], {});\n",
              "          if (!dataTable) return;\n",
              "\n",
              "          const docLinkHtml = 'Like what you see? Visit the ' +\n",
              "            '<a target=\"_blank\" href=https://colab.research.google.com/notebooks/data_table.ipynb>data table notebook</a>'\n",
              "            + ' to learn more about interactive tables.';\n",
              "          element.innerHTML = '';\n",
              "          dataTable['output_type'] = 'display_data';\n",
              "          await google.colab.output.renderOutput(dataTable, element);\n",
              "          const docLink = document.createElement('div');\n",
              "          docLink.innerHTML = docLinkHtml;\n",
              "          element.appendChild(docLink);\n",
              "        }\n",
              "      </script>\n",
              "    </div>\n",
              "  </div>\n",
              "  "
            ],
            "text/plain": [
              "   Unnamed: 0                    message_id  \\\n",
              "0           0  2020-03-17 22:52:45.0174 UTC   \n",
              "1           1  2020-03-17 22:58:47.0175 UTC   \n",
              "2           2  2020-03-18 06:39:01.0184 UTC   \n",
              "3           3  2020-03-18 06:40:19.0195 UTC   \n",
              "4           4  2020-03-18 06:40:58.0198 UTC   \n",
              "\n",
              "                                           embedding  \n",
              "0  [-0.043248970061540604, -0.007734753657132387,...  \n",
              "1  [-0.03162849321961403, 0.0018300998490303755, ...  \n",
              "2  [-0.021394122391939163, -0.013377929106354713,...  \n",
              "3  [0.014829986728727818, -0.01779334992170334, 0...  \n",
              "4  [0.013494313694536686, -0.009085348807275295, ...  "
            ]
          },
          "execution_count": 9,
          "metadata": {},
          "output_type": "execute_result"
        }
      ],
      "source": [
        "# Embeddings data for each message (rahul is generating this rn.)\n",
        "message_embeddings_df = pd.read_csv(\"./Vector DB & LLM Hackathon/messages-embeddings-ada-002.csv\")\n",
        "message_embeddings_df.head()"
      ]
    },
    {
      "cell_type": "markdown",
      "metadata": {
        "id": "K1W_efjwNiut"
      },
      "source": [
        "### Conversations & Embeddings"
      ]
    },
    {
      "cell_type": "code",
      "execution_count": 10,
      "metadata": {
        "colab": {
          "base_uri": "https://localhost:8080/",
          "height": 206
        },
        "id": "xTGDU-5RKwLz",
        "outputId": "241d380f-2203-497f-b98a-5e561bf6978d"
      },
      "outputs": [
        {
          "data": {
            "text/html": [
              "\n",
              "  <style>\n",
              "    pre {\n",
              "        white-space: pre-wrap;\n",
              "    }\n",
              "  </style>\n",
              "  "
            ],
            "text/plain": [
              "<IPython.core.display.HTML object>"
            ]
          },
          "metadata": {},
          "output_type": "display_data"
        },
        {
          "data": {
            "text/html": [
              "\n",
              "  <div id=\"df-62e685c3-826c-4d60-a03e-f17e4881f534\">\n",
              "    <div class=\"colab-df-container\">\n",
              "      <div>\n",
              "<style scoped>\n",
              "    .dataframe tbody tr th:only-of-type {\n",
              "        vertical-align: middle;\n",
              "    }\n",
              "\n",
              "    .dataframe tbody tr th {\n",
              "        vertical-align: top;\n",
              "    }\n",
              "\n",
              "    .dataframe thead th {\n",
              "        text-align: right;\n",
              "    }\n",
              "</style>\n",
              "<table border=\"1\" class=\"dataframe\">\n",
              "  <thead>\n",
              "    <tr style=\"text-align: right;\">\n",
              "      <th></th>\n",
              "      <th>Unnamed: 0</th>\n",
              "      <th>channel_name</th>\n",
              "      <th>thread_id</th>\n",
              "      <th>chat_text</th>\n",
              "    </tr>\n",
              "  </thead>\n",
              "  <tbody>\n",
              "    <tr>\n",
              "      <th>0</th>\n",
              "      <td>0</td>\n",
              "      <td>africa</td>\n",
              "      <td>2022-03-22 19:42:06.219769 UTC</td>\n",
              "      <td>U024WRAA0D9: Hello fellow MLOpsers in Africa :...</td>\n",
              "    </tr>\n",
              "    <tr>\n",
              "      <th>1</th>\n",
              "      <td>1</td>\n",
              "      <td>africa</td>\n",
              "      <td>2022-03-24 08:14:33.140029 UTC</td>\n",
              "      <td>U024WRAA0D9: What should our next steps be (fo...</td>\n",
              "    </tr>\n",
              "    <tr>\n",
              "      <th>2</th>\n",
              "      <td>2</td>\n",
              "      <td>africa</td>\n",
              "      <td>2022-03-28 11:57:42.840049 UTC</td>\n",
              "      <td>U024WRAA0D9: What’s everyone’s timezone?U024WR...</td>\n",
              "    </tr>\n",
              "    <tr>\n",
              "      <th>3</th>\n",
              "      <td>3</td>\n",
              "      <td>africa</td>\n",
              "      <td>2022-04-12 14:36:00.144498 UTC</td>\n",
              "      <td>U03142DQP6Z: Please can we make it later in th...</td>\n",
              "    </tr>\n",
              "    <tr>\n",
              "      <th>4</th>\n",
              "      <td>4</td>\n",
              "      <td>africa</td>\n",
              "      <td>2022-04-19 10:24:57.455849 UTC</td>\n",
              "      <td>U024WRAA0D9: Hello &lt;#C037GTG932B|africa&gt;, I on...</td>\n",
              "    </tr>\n",
              "  </tbody>\n",
              "</table>\n",
              "</div>\n",
              "      <button class=\"colab-df-convert\" onclick=\"convertToInteractive('df-62e685c3-826c-4d60-a03e-f17e4881f534')\"\n",
              "              title=\"Convert this dataframe to an interactive table.\"\n",
              "              style=\"display:none;\">\n",
              "        \n",
              "  <svg xmlns=\"http://www.w3.org/2000/svg\" height=\"24px\"viewBox=\"0 0 24 24\"\n",
              "       width=\"24px\">\n",
              "    <path d=\"M0 0h24v24H0V0z\" fill=\"none\"/>\n",
              "    <path d=\"M18.56 5.44l.94 2.06.94-2.06 2.06-.94-2.06-.94-.94-2.06-.94 2.06-2.06.94zm-11 1L8.5 8.5l.94-2.06 2.06-.94-2.06-.94L8.5 2.5l-.94 2.06-2.06.94zm10 10l.94 2.06.94-2.06 2.06-.94-2.06-.94-.94-2.06-.94 2.06-2.06.94z\"/><path d=\"M17.41 7.96l-1.37-1.37c-.4-.4-.92-.59-1.43-.59-.52 0-1.04.2-1.43.59L10.3 9.45l-7.72 7.72c-.78.78-.78 2.05 0 2.83L4 21.41c.39.39.9.59 1.41.59.51 0 1.02-.2 1.41-.59l7.78-7.78 2.81-2.81c.8-.78.8-2.07 0-2.86zM5.41 20L4 18.59l7.72-7.72 1.47 1.35L5.41 20z\"/>\n",
              "  </svg>\n",
              "      </button>\n",
              "      \n",
              "  <style>\n",
              "    .colab-df-container {\n",
              "      display:flex;\n",
              "      flex-wrap:wrap;\n",
              "      gap: 12px;\n",
              "    }\n",
              "\n",
              "    .colab-df-convert {\n",
              "      background-color: #E8F0FE;\n",
              "      border: none;\n",
              "      border-radius: 50%;\n",
              "      cursor: pointer;\n",
              "      display: none;\n",
              "      fill: #1967D2;\n",
              "      height: 32px;\n",
              "      padding: 0 0 0 0;\n",
              "      width: 32px;\n",
              "    }\n",
              "\n",
              "    .colab-df-convert:hover {\n",
              "      background-color: #E2EBFA;\n",
              "      box-shadow: 0px 1px 2px rgba(60, 64, 67, 0.3), 0px 1px 3px 1px rgba(60, 64, 67, 0.15);\n",
              "      fill: #174EA6;\n",
              "    }\n",
              "\n",
              "    [theme=dark] .colab-df-convert {\n",
              "      background-color: #3B4455;\n",
              "      fill: #D2E3FC;\n",
              "    }\n",
              "\n",
              "    [theme=dark] .colab-df-convert:hover {\n",
              "      background-color: #434B5C;\n",
              "      box-shadow: 0px 1px 3px 1px rgba(0, 0, 0, 0.15);\n",
              "      filter: drop-shadow(0px 1px 2px rgba(0, 0, 0, 0.3));\n",
              "      fill: #FFFFFF;\n",
              "    }\n",
              "  </style>\n",
              "\n",
              "      <script>\n",
              "        const buttonEl =\n",
              "          document.querySelector('#df-62e685c3-826c-4d60-a03e-f17e4881f534 button.colab-df-convert');\n",
              "        buttonEl.style.display =\n",
              "          google.colab.kernel.accessAllowed ? 'block' : 'none';\n",
              "\n",
              "        async function convertToInteractive(key) {\n",
              "          const element = document.querySelector('#df-62e685c3-826c-4d60-a03e-f17e4881f534');\n",
              "          const dataTable =\n",
              "            await google.colab.kernel.invokeFunction('convertToInteractive',\n",
              "                                                     [key], {});\n",
              "          if (!dataTable) return;\n",
              "\n",
              "          const docLinkHtml = 'Like what you see? Visit the ' +\n",
              "            '<a target=\"_blank\" href=https://colab.research.google.com/notebooks/data_table.ipynb>data table notebook</a>'\n",
              "            + ' to learn more about interactive tables.';\n",
              "          element.innerHTML = '';\n",
              "          dataTable['output_type'] = 'display_data';\n",
              "          await google.colab.output.renderOutput(dataTable, element);\n",
              "          const docLink = document.createElement('div');\n",
              "          docLink.innerHTML = docLinkHtml;\n",
              "          element.appendChild(docLink);\n",
              "        }\n",
              "      </script>\n",
              "    </div>\n",
              "  </div>\n",
              "  "
            ],
            "text/plain": [
              "   Unnamed: 0 channel_name                       thread_id  \\\n",
              "0           0       africa  2022-03-22 19:42:06.219769 UTC   \n",
              "1           1       africa  2022-03-24 08:14:33.140029 UTC   \n",
              "2           2       africa  2022-03-28 11:57:42.840049 UTC   \n",
              "3           3       africa  2022-04-12 14:36:00.144498 UTC   \n",
              "4           4       africa  2022-04-19 10:24:57.455849 UTC   \n",
              "\n",
              "                                           chat_text  \n",
              "0  U024WRAA0D9: Hello fellow MLOpsers in Africa :...  \n",
              "1  U024WRAA0D9: What should our next steps be (fo...  \n",
              "2  U024WRAA0D9: What’s everyone’s timezone?U024WR...  \n",
              "3  U03142DQP6Z: Please can we make it later in th...  \n",
              "4  U024WRAA0D9: Hello <#C037GTG932B|africa>, I on...  "
            ]
          },
          "execution_count": 10,
          "metadata": {},
          "output_type": "execute_result"
        }
      ],
      "source": [
        "# Each conversation grouped into a single thread_id\n",
        "chats_df = pd.read_csv(\"./Vector DB & LLM Hackathon/chats.csv\")\n",
        "chats_df.head()"
      ]
    },
    {
      "cell_type": "code",
      "execution_count": 11,
      "metadata": {
        "colab": {
          "base_uri": "https://localhost:8080/",
          "height": 206
        },
        "id": "wHQUy394K_5s",
        "outputId": "9cdb2204-66e1-4b19-b8ca-a95b886ea4aa"
      },
      "outputs": [
        {
          "data": {
            "text/html": [
              "\n",
              "  <style>\n",
              "    pre {\n",
              "        white-space: pre-wrap;\n",
              "    }\n",
              "  </style>\n",
              "  "
            ],
            "text/plain": [
              "<IPython.core.display.HTML object>"
            ]
          },
          "metadata": {},
          "output_type": "display_data"
        },
        {
          "data": {
            "text/html": [
              "\n",
              "  <div id=\"df-1680cd07-f2a9-4881-9b2c-e8d184fb8808\">\n",
              "    <div class=\"colab-df-container\">\n",
              "      <div>\n",
              "<style scoped>\n",
              "    .dataframe tbody tr th:only-of-type {\n",
              "        vertical-align: middle;\n",
              "    }\n",
              "\n",
              "    .dataframe tbody tr th {\n",
              "        vertical-align: top;\n",
              "    }\n",
              "\n",
              "    .dataframe thead th {\n",
              "        text-align: right;\n",
              "    }\n",
              "</style>\n",
              "<table border=\"1\" class=\"dataframe\">\n",
              "  <thead>\n",
              "    <tr style=\"text-align: right;\">\n",
              "      <th></th>\n",
              "      <th>Unnamed: 0</th>\n",
              "      <th>thread_id</th>\n",
              "      <th>embedding</th>\n",
              "    </tr>\n",
              "  </thead>\n",
              "  <tbody>\n",
              "    <tr>\n",
              "      <th>0</th>\n",
              "      <td>0</td>\n",
              "      <td>2022-03-22 19:42:06.219769 UTC</td>\n",
              "      <td>[0.0036350293084979057, -0.01264416053891182, ...</td>\n",
              "    </tr>\n",
              "    <tr>\n",
              "      <th>1</th>\n",
              "      <td>1</td>\n",
              "      <td>2022-03-24 08:14:33.140029 UTC</td>\n",
              "      <td>[-0.002360287122428417, -0.04199115186929703, ...</td>\n",
              "    </tr>\n",
              "    <tr>\n",
              "      <th>2</th>\n",
              "      <td>2</td>\n",
              "      <td>2022-03-28 11:57:42.840049 UTC</td>\n",
              "      <td>[0.017543835565447807, 0.0032007887493819, 0.0...</td>\n",
              "    </tr>\n",
              "    <tr>\n",
              "      <th>3</th>\n",
              "      <td>3</td>\n",
              "      <td>2022-04-12 14:36:00.144498 UTC</td>\n",
              "      <td>[-0.001173610333353281, -0.014446504414081573,...</td>\n",
              "    </tr>\n",
              "    <tr>\n",
              "      <th>4</th>\n",
              "      <td>4</td>\n",
              "      <td>2022-04-19 10:24:57.455849 UTC</td>\n",
              "      <td>[-0.0025763490702956915, -0.02925489842891693,...</td>\n",
              "    </tr>\n",
              "  </tbody>\n",
              "</table>\n",
              "</div>\n",
              "      <button class=\"colab-df-convert\" onclick=\"convertToInteractive('df-1680cd07-f2a9-4881-9b2c-e8d184fb8808')\"\n",
              "              title=\"Convert this dataframe to an interactive table.\"\n",
              "              style=\"display:none;\">\n",
              "        \n",
              "  <svg xmlns=\"http://www.w3.org/2000/svg\" height=\"24px\"viewBox=\"0 0 24 24\"\n",
              "       width=\"24px\">\n",
              "    <path d=\"M0 0h24v24H0V0z\" fill=\"none\"/>\n",
              "    <path d=\"M18.56 5.44l.94 2.06.94-2.06 2.06-.94-2.06-.94-.94-2.06-.94 2.06-2.06.94zm-11 1L8.5 8.5l.94-2.06 2.06-.94-2.06-.94L8.5 2.5l-.94 2.06-2.06.94zm10 10l.94 2.06.94-2.06 2.06-.94-2.06-.94-.94-2.06-.94 2.06-2.06.94z\"/><path d=\"M17.41 7.96l-1.37-1.37c-.4-.4-.92-.59-1.43-.59-.52 0-1.04.2-1.43.59L10.3 9.45l-7.72 7.72c-.78.78-.78 2.05 0 2.83L4 21.41c.39.39.9.59 1.41.59.51 0 1.02-.2 1.41-.59l7.78-7.78 2.81-2.81c.8-.78.8-2.07 0-2.86zM5.41 20L4 18.59l7.72-7.72 1.47 1.35L5.41 20z\"/>\n",
              "  </svg>\n",
              "      </button>\n",
              "      \n",
              "  <style>\n",
              "    .colab-df-container {\n",
              "      display:flex;\n",
              "      flex-wrap:wrap;\n",
              "      gap: 12px;\n",
              "    }\n",
              "\n",
              "    .colab-df-convert {\n",
              "      background-color: #E8F0FE;\n",
              "      border: none;\n",
              "      border-radius: 50%;\n",
              "      cursor: pointer;\n",
              "      display: none;\n",
              "      fill: #1967D2;\n",
              "      height: 32px;\n",
              "      padding: 0 0 0 0;\n",
              "      width: 32px;\n",
              "    }\n",
              "\n",
              "    .colab-df-convert:hover {\n",
              "      background-color: #E2EBFA;\n",
              "      box-shadow: 0px 1px 2px rgba(60, 64, 67, 0.3), 0px 1px 3px 1px rgba(60, 64, 67, 0.15);\n",
              "      fill: #174EA6;\n",
              "    }\n",
              "\n",
              "    [theme=dark] .colab-df-convert {\n",
              "      background-color: #3B4455;\n",
              "      fill: #D2E3FC;\n",
              "    }\n",
              "\n",
              "    [theme=dark] .colab-df-convert:hover {\n",
              "      background-color: #434B5C;\n",
              "      box-shadow: 0px 1px 3px 1px rgba(0, 0, 0, 0.15);\n",
              "      filter: drop-shadow(0px 1px 2px rgba(0, 0, 0, 0.3));\n",
              "      fill: #FFFFFF;\n",
              "    }\n",
              "  </style>\n",
              "\n",
              "      <script>\n",
              "        const buttonEl =\n",
              "          document.querySelector('#df-1680cd07-f2a9-4881-9b2c-e8d184fb8808 button.colab-df-convert');\n",
              "        buttonEl.style.display =\n",
              "          google.colab.kernel.accessAllowed ? 'block' : 'none';\n",
              "\n",
              "        async function convertToInteractive(key) {\n",
              "          const element = document.querySelector('#df-1680cd07-f2a9-4881-9b2c-e8d184fb8808');\n",
              "          const dataTable =\n",
              "            await google.colab.kernel.invokeFunction('convertToInteractive',\n",
              "                                                     [key], {});\n",
              "          if (!dataTable) return;\n",
              "\n",
              "          const docLinkHtml = 'Like what you see? Visit the ' +\n",
              "            '<a target=\"_blank\" href=https://colab.research.google.com/notebooks/data_table.ipynb>data table notebook</a>'\n",
              "            + ' to learn more about interactive tables.';\n",
              "          element.innerHTML = '';\n",
              "          dataTable['output_type'] = 'display_data';\n",
              "          await google.colab.output.renderOutput(dataTable, element);\n",
              "          const docLink = document.createElement('div');\n",
              "          docLink.innerHTML = docLinkHtml;\n",
              "          element.appendChild(docLink);\n",
              "        }\n",
              "      </script>\n",
              "    </div>\n",
              "  </div>\n",
              "  "
            ],
            "text/plain": [
              "   Unnamed: 0                       thread_id  \\\n",
              "0           0  2022-03-22 19:42:06.219769 UTC   \n",
              "1           1  2022-03-24 08:14:33.140029 UTC   \n",
              "2           2  2022-03-28 11:57:42.840049 UTC   \n",
              "3           3  2022-04-12 14:36:00.144498 UTC   \n",
              "4           4  2022-04-19 10:24:57.455849 UTC   \n",
              "\n",
              "                                           embedding  \n",
              "0  [0.0036350293084979057, -0.01264416053891182, ...  \n",
              "1  [-0.002360287122428417, -0.04199115186929703, ...  \n",
              "2  [0.017543835565447807, 0.0032007887493819, 0.0...  \n",
              "3  [-0.001173610333353281, -0.014446504414081573,...  \n",
              "4  [-0.0025763490702956915, -0.02925489842891693,...  "
            ]
          },
          "execution_count": 11,
          "metadata": {},
          "output_type": "execute_result"
        }
      ],
      "source": [
        "# The embedding for each conversation with its thread_id (Note: not all embeddings were generated for the chat text)\n",
        "embeddings_df = pd.read_csv(\"./Vector DB & LLM Hackathon/chats-embeddings-ada-002.csv\")\n",
        "embeddings_df.head()"
      ]
    },
    {
      "cell_type": "code",
      "execution_count": 9,
      "metadata": {
        "colab": {
          "base_uri": "https://localhost:8080/",
          "height": 53
        },
        "id": "4wAmWK4dMg_8",
        "outputId": "55bf2439-ebaf-4d32-e26b-ba13f1bfc9d5"
      },
      "outputs": [
        {
          "ename": "NameError",
          "evalue": "name 'chats_df' is not defined",
          "output_type": "error",
          "traceback": [
            "\u001b[0;31m---------------------------------------------------------------------------\u001b[0m",
            "\u001b[0;31mNameError\u001b[0m                                 Traceback (most recent call last)",
            "Cell \u001b[0;32mIn[9], line 8\u001b[0m\n\u001b[1;32m      6\u001b[0m \u001b[39m# Create a temp index of the chats\u001b[39;00m\n\u001b[1;32m      7\u001b[0m chats_index \u001b[39m=\u001b[39m {}\n\u001b[0;32m----> 8\u001b[0m \u001b[39mfor\u001b[39;00m _, row \u001b[39min\u001b[39;00m tqdm(chats_df\u001b[39m.\u001b[39miterrows(), desc\u001b[39m=\u001b[39m\u001b[39m\"\u001b[39m\u001b[39mCreating temporary chats index\u001b[39m\u001b[39m\"\u001b[39m):\n\u001b[1;32m      9\u001b[0m   chats_index[row[\u001b[39m'\u001b[39m\u001b[39mthread_id\u001b[39m\u001b[39m'\u001b[39m]] \u001b[39m=\u001b[39m row[\u001b[39m'\u001b[39m\u001b[39mchat_text\u001b[39m\u001b[39m'\u001b[39m]\n\u001b[1;32m     11\u001b[0m \u001b[39m# Link the chats and embeddings together\u001b[39;00m\n",
            "\u001b[0;31mNameError\u001b[0m: name 'chats_df' is not defined"
          ]
        }
      ],
      "source": [
        "# Get your embeddings data together.\n",
        "import json\n",
        "from tqdm import tqdm\n",
        "import numpy as np\n",
        "\n",
        "# Create a temp index of the chats\n",
        "chats_index = {}\n",
        "for _, row in tqdm(chats_df.iterrows(), desc=\"Creating temporary chats index\"):\n",
        "  chats_index[row['thread_id']] = row['chat_text']\n",
        "\n",
        "# Link the chats and embeddings together\n",
        "embeddings = []\n",
        "VECTOR_SIZE = None\n",
        "for _, row in tqdm(embeddings_df.iterrows(), desc=\"Collecting chats and embeddings\"):\n",
        "  embedding = json.loads(row['embedding'])\n",
        "  embeddings.append({\"thread_id\": row['thread_id'], \"embedding\":  embedding})\n",
        "  if not VECTOR_SIZE:\n",
        "    VECTOR_SIZE = len(embedding)\n",
        "  else:\n",
        "    assert VECTOR_SIZE==len(embedding)"
      ]
    },
    {
      "cell_type": "markdown",
      "metadata": {
        "id": "E_MIq52NMbyT"
      },
      "source": [
        "# Create your vector database\n",
        "Using https://weaviate.io/developers/weaviate/client-libraries/python"
      ]
    },
    {
      "cell_type": "code",
      "execution_count": 1,
      "metadata": {
        "colab": {
          "base_uri": "https://localhost:8080/",
          "height": 17
        },
        "id": "IKHwaN-MLICJ",
        "outputId": "75c5a679-81c6-4ce8-9d1a-4ce0342fdfeb"
      },
      "outputs": [],
      "source": [
        "import os\n",
        "# Point to your self-hosted weviate server OR try a free weviate server from https://console.weaviate.cloud/\n",
        "os.environ['WEVIATE_URL'] = \"https://article-l1e2eid0.weaviate.network\" # Replace w/ your Weaviate instance API key\n",
        "os.environ['WEVIATE_API_KEY'] = \"tip5T6onunRgUzVTTXTp1bJ51aY9xbXWbjTs\" # Replace the URL with that of your Weaviate instance"
      ]
    },
    {
      "cell_type": "code",
      "execution_count": 2,
      "metadata": {
        "colab": {
          "base_uri": "https://localhost:8080/",
          "height": 1000
        },
        "id": "dtAsNPAEL-fV",
        "outputId": "0dab9bfb-2f7d-42a3-a68f-51c2e02fabc8"
      },
      "outputs": [
        {
          "data": {
            "text/plain": [
              "{'classes': [{'class': 'JeopardyQuestion',\n",
              "   'description': 'List of jeopardy questions',\n",
              "   'invertedIndexConfig': {'bm25': {'b': 0.75, 'k1': 1.2},\n",
              "    'cleanupIntervalSeconds': 60,\n",
              "    'stopwords': {'additions': None, 'preset': 'en', 'removals': None}},\n",
              "   'moduleConfig': {'generative-openai': {'model': 'gpt-3.5-turbo'},\n",
              "    'text2vec-openai': {'model': 'ada',\n",
              "     'modelVersion': '002',\n",
              "     'type': 'text',\n",
              "     'vectorizeClassName': True}},\n",
              "   'properties': [{'dataType': ['text'],\n",
              "     'description': 'Category of the question',\n",
              "     'indexFilterable': True,\n",
              "     'indexSearchable': True,\n",
              "     'moduleConfig': {'text2vec-openai': {'skip': False,\n",
              "       'vectorizePropertyName': False}},\n",
              "     'name': 'category',\n",
              "     'tokenization': 'word'},\n",
              "    {'dataType': ['text'],\n",
              "     'description': 'The question',\n",
              "     'indexFilterable': True,\n",
              "     'indexSearchable': True,\n",
              "     'moduleConfig': {'text2vec-openai': {'skip': False,\n",
              "       'vectorizePropertyName': False}},\n",
              "     'name': 'question',\n",
              "     'tokenization': 'word'},\n",
              "    {'dataType': ['text'],\n",
              "     'description': 'The answer',\n",
              "     'indexFilterable': True,\n",
              "     'indexSearchable': True,\n",
              "     'moduleConfig': {'text2vec-openai': {'skip': False,\n",
              "       'vectorizePropertyName': False}},\n",
              "     'name': 'answer',\n",
              "     'tokenization': 'word'}],\n",
              "   'replicationConfig': {'factor': 1},\n",
              "   'shardingConfig': {'virtualPerPhysical': 128,\n",
              "    'desiredCount': 1,\n",
              "    'actualCount': 1,\n",
              "    'desiredVirtualCount': 128,\n",
              "    'actualVirtualCount': 128,\n",
              "    'key': '_id',\n",
              "    'strategy': 'hash',\n",
              "    'function': 'murmur3'},\n",
              "   'vectorIndexConfig': {'skip': False,\n",
              "    'cleanupIntervalSeconds': 300,\n",
              "    'maxConnections': 64,\n",
              "    'efConstruction': 128,\n",
              "    'ef': -1,\n",
              "    'dynamicEfMin': 100,\n",
              "    'dynamicEfMax': 500,\n",
              "    'dynamicEfFactor': 8,\n",
              "    'vectorCacheMaxObjects': 1000000000000,\n",
              "    'flatSearchCutoff': 40000,\n",
              "    'distance': 'cosine',\n",
              "    'pq': {'enabled': False,\n",
              "     'bitCompression': False,\n",
              "     'segments': 0,\n",
              "     'centroids': 256,\n",
              "     'encoder': {'type': 'kmeans', 'distribution': 'log-normal'}}},\n",
              "   'vectorIndexType': 'hnsw',\n",
              "   'vectorizer': 'text2vec-openai'},\n",
              "  {'class': 'Conversations',\n",
              "   'invertedIndexConfig': {'bm25': {'b': 0.75, 'k1': 1.2},\n",
              "    'cleanupIntervalSeconds': 60,\n",
              "    'stopwords': {'additions': None, 'preset': 'en', 'removals': None}},\n",
              "   'properties': [{'dataType': ['text'],\n",
              "     'description': \"This property was generated by Weaviate's auto-schema feature on Sat Jun 17 11:00:52 2023\",\n",
              "     'indexFilterable': True,\n",
              "     'indexSearchable': True,\n",
              "     'name': 'thread_id',\n",
              "     'tokenization': 'word'}],\n",
              "   'replicationConfig': {'factor': 1},\n",
              "   'shardingConfig': {'virtualPerPhysical': 128,\n",
              "    'desiredCount': 1,\n",
              "    'actualCount': 1,\n",
              "    'desiredVirtualCount': 128,\n",
              "    'actualVirtualCount': 128,\n",
              "    'key': '_id',\n",
              "    'strategy': 'hash',\n",
              "    'function': 'murmur3'},\n",
              "   'vectorIndexConfig': {'skip': False,\n",
              "    'cleanupIntervalSeconds': 300,\n",
              "    'maxConnections': 64,\n",
              "    'efConstruction': 128,\n",
              "    'ef': -1,\n",
              "    'dynamicEfMin': 100,\n",
              "    'dynamicEfMax': 500,\n",
              "    'dynamicEfFactor': 8,\n",
              "    'vectorCacheMaxObjects': 1000000000000,\n",
              "    'flatSearchCutoff': 40000,\n",
              "    'distance': 'cosine',\n",
              "    'pq': {'enabled': False,\n",
              "     'bitCompression': False,\n",
              "     'segments': 0,\n",
              "     'centroids': 256,\n",
              "     'encoder': {'type': 'kmeans', 'distribution': 'log-normal'}}},\n",
              "   'vectorIndexType': 'hnsw',\n",
              "   'vectorizer': 'none'}]}"
            ]
          },
          "execution_count": 2,
          "metadata": {},
          "output_type": "execute_result"
        }
      ],
      "source": [
        "import weaviate\n",
        "auth_config = weaviate.AuthApiKey(api_key=os.environ[\"WEVIATE_API_KEY\"])\n",
        "client = weaviate.Client(os.environ['WEVIATE_URL'], auth_client_secret=auth_config)\n",
        "client.schema.get()\n"
      ]
    },
    {
      "cell_type": "code",
      "execution_count": 15,
      "metadata": {
        "colab": {
          "base_uri": "https://localhost:8080/",
          "height": 17
        },
        "id": "_4VCtBrfOXT_",
        "outputId": "82848d80-944c-4e24-8bc5-61aaac5c68bd"
      },
      "outputs": [
        {
          "data": {
            "text/html": [
              "\n",
              "  <style>\n",
              "    pre {\n",
              "        white-space: pre-wrap;\n",
              "    }\n",
              "  </style>\n",
              "  "
            ],
            "text/plain": [
              "<IPython.core.display.HTML object>"
            ]
          },
          "metadata": {},
          "output_type": "display_data"
        }
      ],
      "source": [
        "#Create a class object for our chat conversations:\n",
        "class_obj = {\n",
        "    \"class\": \"Conversations\",\n",
        "    \"vectorizer\": \"none\",  # None is custom vectorizer\n",
        "}\n",
        "\n",
        "client.schema.create_class(class_obj)"
      ]
    },
    {
      "cell_type": "code",
      "execution_count": 16,
      "metadata": {
        "colab": {
          "base_uri": "https://localhost:8080/",
          "height": 35
        },
        "id": "0MfzhP7KP7PT",
        "outputId": "455b0711-f1c1-4244-8dc1-1fd50433b7ca"
      },
      "outputs": [
        {
          "data": {
            "text/html": [
              "\n",
              "  <style>\n",
              "    pre {\n",
              "        white-space: pre-wrap;\n",
              "    }\n",
              "  </style>\n",
              "  "
            ],
            "text/plain": [
              "<IPython.core.display.HTML object>"
            ]
          },
          "metadata": {},
          "output_type": "display_data"
        },
        {
          "name": "stderr",
          "output_type": "stream",
          "text": [
            "100%|██████████| 9713/9713 [00:58<00:00, 165.63it/s]\n"
          ]
        }
      ],
      "source": [
        "# bulk insert data\n",
        "with client.batch(\n",
        "    batch_size=100\n",
        ") as batch:\n",
        "    # Batch import all conversations\n",
        "    for row in tqdm(embeddings):\n",
        "        properties = {\n",
        "            \"thread_id\": row['thread_id'],\n",
        "        }\n",
        "\n",
        "        custom_vector = np.array(row['embedding']).astype(np.float32)\n",
        "        client.batch.add_data_object(\n",
        "            properties,\n",
        "            \"Conversations\",\n",
        "            vector=custom_vector  # Add custom vector\n",
        "        )"
      ]
    },
    {
      "cell_type": "code",
      "execution_count": 3,
      "metadata": {
        "colab": {
          "base_uri": "https://localhost:8080/",
          "height": 17
        },
        "id": "pS_lC8k6SJTQ",
        "outputId": "bd13c238-cd45-4b8d-ff85-09d801a7b8b4"
      },
      "outputs": [],
      "source": [
        "def search_index(embedding):\n",
        "  custom_vector = np.array(embedding).astype(np.float32)\n",
        "  response = (\n",
        "      client.query\n",
        "      .get(\"Conversations\", [\"thread_id\"])\n",
        "      .with_near_vector({\"vector\":custom_vector})\n",
        "      .with_limit(3)\n",
        "      .do()\n",
        "  )\n",
        "\n",
        "  return response[\"data\"][\"Get\"][\"Conversations\"]"
      ]
    },
    {
      "cell_type": "code",
      "execution_count": 4,
      "metadata": {
        "colab": {
          "base_uri": "https://localhost:8080/",
          "height": 17
        },
        "id": "jI_XJYqwY0pP",
        "outputId": "aa21a8bd-9ec8-451e-eb57-2c58a9b89378"
      },
      "outputs": [
        {
          "ename": "NameError",
          "evalue": "name 'embeddings' is not defined",
          "output_type": "error",
          "traceback": [
            "\u001b[0;31m---------------------------------------------------------------------------\u001b[0m",
            "\u001b[0;31mNameError\u001b[0m                                 Traceback (most recent call last)",
            "Cell \u001b[0;32mIn[4], line 2\u001b[0m\n\u001b[1;32m      1\u001b[0m \u001b[39m# test with an existing document, that that document is returned\u001b[39;00m\n\u001b[0;32m----> 2\u001b[0m row \u001b[39m=\u001b[39m embeddings[\u001b[39m2539\u001b[39m]\n\u001b[1;32m      3\u001b[0m docs \u001b[39m=\u001b[39m search_index(row[\u001b[39m'\u001b[39m\u001b[39membedding\u001b[39m\u001b[39m'\u001b[39m])\n\u001b[1;32m      4\u001b[0m \u001b[39massert\u001b[39;00m row[\u001b[39m'\u001b[39m\u001b[39mthread_id\u001b[39m\u001b[39m'\u001b[39m]\u001b[39m==\u001b[39mdocs[\u001b[39m0\u001b[39m][\u001b[39m\"\u001b[39m\u001b[39mthread_id\u001b[39m\u001b[39m\"\u001b[39m], \u001b[39m\"\u001b[39m\u001b[39mDocument does not match\u001b[39m\u001b[39m\"\u001b[39m\n",
            "\u001b[0;31mNameError\u001b[0m: name 'embeddings' is not defined"
          ]
        }
      ],
      "source": [
        "# test with an existing document, that that document is returned\n",
        "row = embeddings[2539]\n",
        "docs = search_index(row['embedding'])\n",
        "assert row['thread_id']==docs[0][\"thread_id\"], \"Document does not match\""
      ]
    },
    {
      "cell_type": "markdown",
      "metadata": {
        "id": "nuiB3wZHbb2_"
      },
      "source": [
        "# Example Q&A with OpenAI"
      ]
    },
    {
      "cell_type": "code",
      "execution_count": 5,
      "metadata": {
        "colab": {
          "base_uri": "https://localhost:8080/",
          "height": 17
        },
        "id": "Ij-IEfqlbevd",
        "outputId": "8e3a6568-4f2e-4036-b9f3-88974ea2dbb3"
      },
      "outputs": [],
      "source": [
        "import os\n",
        "import openai\n",
        "openai.organization =  # Not your Org Name. Org Id can be found in your organization's settings page.\n",
        "openai.api_key = \n",
        "\n",
        "def get_embedding(text):\n",
        "  # Use the same embedding generator as what was used on the data!!!\n",
        "  response = openai.Embedding.create(\n",
        "    model=\"text-embedding-ada-002\",\n",
        "    input=text\n",
        "  )\n",
        "  return response.data[0].embedding\n",
        "\n",
        "def summarize(chat_text):\n",
        "  # Summarize conversations since individually they are long and go over 8k limit\n",
        "  prompt = \"Summarize the following conversation on the MLOps.community slack channel. Do not use the usernames in the summary. ```\" + chat_text + \"```\"\n",
        "  completion = openai.ChatCompletion.create(\n",
        "    model=\"gpt-3.5-turbo\",\n",
        "    messages=[\n",
        "      {\"role\": \"user\", \"content\": prompt}\n",
        "    ]\n",
        "  )\n",
        "  return completion.choices[0].message.content\n",
        "\n",
        "\n",
        "def extract_answer(chat_texts, question):\n",
        "  # Combine the summaries into a prompt and use SotA GPT-4 to answer.\n",
        "  prompt = \"Use the following summaries of conversations on the MLOps.community slack channel backtics to generate an answer for the user question.\"\n",
        "  for i, chat_text in enumerate(chat_texts):\n",
        "    print(f\"Getting summary for conversation {i+1}\")\n",
        "    prompt += f\"\\nConversation {i+1} Summary:\\n```\\n{summarize(chat_text)}```\"\n",
        "\n",
        "  if not question.endswith(\"?\"):\n",
        "    question = question + \"?\"\n",
        "  prompt+= f\"\\nQuestion: {question}\"\n",
        "  print(f\"Getting answer for the question.\")\n",
        "  completion = openai.ChatCompletion.create(\n",
        "    model=\"gpt-4\",\n",
        "    messages=[\n",
        "      {\"role\": \"user\", \"content\": prompt}\n",
        "    ]\n",
        "  )\n",
        "  content = completion.choices[0].message.content\n",
        "  return content\n"
      ]
    },
    {
      "cell_type": "code",
      "execution_count": 6,
      "metadata": {
        "colab": {
          "base_uri": "https://localhost:8080/",
          "height": 17
        },
        "id": "4FTUR7aSbiR4",
        "outputId": "017b2ee8-c5c6-402c-9f9c-4f81c93f1f04"
      },
      "outputs": [],
      "source": [
        "def get_answer(question):\n",
        "  # Get answer to the question by finding the three conversations that are nearest\n",
        "  # to the question and then using them to generate the answer.\n",
        "  print(f\"Searching documents nearest to the question.\")\n",
        "  search_vector = get_embedding(question)\n",
        "  docs = search_index(search_vector)\n",
        "  # Take the top three answers, and use ChatGPT to form the answer to give the user.\n",
        "  chat_texts = []\n",
        "  for doc in docs:\n",
        "    chat_text = chats_index[doc[\"thread_id\"]]\n",
        "    chat_texts.append(chat_text)\n",
        "  if len(chat_texts)>3:\n",
        "    chat_texts[:3]\n",
        "  return extract_answer(chat_texts, question)"
      ]
    },
    {
      "cell_type": "code",
      "execution_count": 8,
      "metadata": {
        "colab": {
          "base_uri": "https://localhost:8080/",
          "height": 213
        },
        "id": "bZDd3d5lcSSz",
        "outputId": "3a8936bc-1597-4dc5-c58d-07034833ba3e"
      },
      "outputs": [
        {
          "name": "stdout",
          "output_type": "stream",
          "text": [
            "Searching documents nearest to the question.\n"
          ]
        },
        {
          "ename": "NameError",
          "evalue": "name 'chats_index' is not defined",
          "output_type": "error",
          "traceback": [
            "\u001b[0;31m---------------------------------------------------------------------------\u001b[0m",
            "\u001b[0;31mNameError\u001b[0m                                 Traceback (most recent call last)",
            "Cell \u001b[0;32mIn[8], line 3\u001b[0m\n\u001b[1;32m      1\u001b[0m \u001b[39mimport\u001b[39;00m \u001b[39mnumpy\u001b[39;00m \u001b[39mas\u001b[39;00m \u001b[39mnp\u001b[39;00m\n\u001b[1;32m      2\u001b[0m question\u001b[39m=\u001b[39m\u001b[39m\"\u001b[39m\u001b[39mWhat are some good ways to deploy models on Kubernetes?\u001b[39m\u001b[39m\"\u001b[39m\n\u001b[0;32m----> 3\u001b[0m answer \u001b[39m=\u001b[39m get_answer(question)\n\u001b[1;32m      4\u001b[0m \u001b[39mprint\u001b[39m(\u001b[39mf\u001b[39m\u001b[39m\"\u001b[39m\u001b[39m\\n\u001b[39;00m\u001b[39m\\n\u001b[39;00m\u001b[39mQuestion: \u001b[39m\u001b[39m{\u001b[39;00mquestion\u001b[39m}\u001b[39;00m\u001b[39m\\n\u001b[39;00m\u001b[39mAnswer: \u001b[39m\u001b[39m{\u001b[39;00manswer\u001b[39m}\u001b[39;00m\u001b[39m\"\u001b[39m)\n",
            "Cell \u001b[0;32mIn[6], line 10\u001b[0m, in \u001b[0;36mget_answer\u001b[0;34m(question)\u001b[0m\n\u001b[1;32m      8\u001b[0m chat_texts \u001b[39m=\u001b[39m []\n\u001b[1;32m      9\u001b[0m \u001b[39mfor\u001b[39;00m doc \u001b[39min\u001b[39;00m docs:\n\u001b[0;32m---> 10\u001b[0m   chat_text \u001b[39m=\u001b[39m chats_index[doc[\u001b[39m\"\u001b[39m\u001b[39mthread_id\u001b[39m\u001b[39m\"\u001b[39m]]\n\u001b[1;32m     11\u001b[0m   chat_texts\u001b[39m.\u001b[39mappend(chat_text)\n\u001b[1;32m     12\u001b[0m \u001b[39mif\u001b[39;00m \u001b[39mlen\u001b[39m(chat_texts)\u001b[39m>\u001b[39m\u001b[39m3\u001b[39m:\n",
            "\u001b[0;31mNameError\u001b[0m: name 'chats_index' is not defined"
          ]
        }
      ],
      "source": [
        "import numpy as np\n",
        "question=\"What are some good ways to deploy models on Kubernetes?\"\n",
        "answer = get_answer(question)\n",
        "print(f\"\\n\\nQuestion: {question}\\nAnswer: {answer}\")"
      ]
    },
    {
      "cell_type": "code",
      "execution_count": null,
      "metadata": {
        "colab": {
          "base_uri": "https://localhost:8080/",
          "height": 624
        },
        "id": "Ub0bI4roeUHK",
        "outputId": "4f01f8e7-d316-428c-ed53-041c47a67769"
      },
      "outputs": [
        {
          "data": {
            "text/html": [
              "\n",
              "  <style>\n",
              "    pre {\n",
              "        white-space: pre-wrap;\n",
              "    }\n",
              "  </style>\n",
              "  "
            ],
            "text/plain": [
              "<IPython.core.display.HTML object>"
            ]
          },
          "metadata": {},
          "output_type": "display_data"
        },
        {
          "name": "stdout",
          "output_type": "stream",
          "text": [
            "Searching documents nearest to the question.\n",
            "Getting summary for conversation 1\n",
            "Getting summary for conversation 2\n",
            "Getting summary for conversation 3\n",
            "Getting answer for the question.\n",
            "\n",
            "\n",
            "Question: How can I structure a good Data Science team?\n",
            "Answer: To structure a good Data Science team, you can follow these guidelines:\n",
            "\n",
            "1. Educate stakeholders about the data science process and manage their expectations regarding project timelines, accuracy, and business value.\n",
            "\n",
            "2. Embed data scientists within product teams to ensure better collaboration with the rest of the company and have a data-driven approach to problem-solving.\n",
            "\n",
            "3. Frame key performance indicators (KPIs) in terms of return on investment (ROI) to demonstrate the value of data science initiatives.\n",
            "\n",
            "4. Adopt a program-based approach by starting with low-fidelity solutions and iteratively build value over time.\n",
            "\n",
            "5. Establish a centralized ML platform team and a data science center of competence for collaboration, support, and knowledge sharing among data scientists.\n",
            "\n",
            "6. Promote cross-functional collaboration between data scientists, ML engineers, and software engineers to bridge the gap between ML development and production.\n",
            "\n",
            "7. Maintain a balance between pipeline-driven and on-demand expertise to ensure the team can handle different project requirements.\n",
            "\n",
            "8. Emphasize the importance of data quality, governance, and an experimental mindset before moving to production.\n",
            "\n",
            "9. Consider using modern data stacks, appropriate cloud data warehouses, and business intelligence tools to centralize and improve data management.\n",
            "\n",
            "10. Appoint a team lead who understands both data science and productionization processes to guide the team effectively.\n",
            "\n",
            "It's important to adapt these guidelines to your company's specific needs and be open to iterating on team structures for maximum efficiency.\n"
          ]
        }
      ],
      "source": [
        "question=\"How can I structure a good Data Science team?\"\n",
        "answer = get_answer(question)\n",
        "print(f\"\\n\\nQuestion: {question}\\nAnswer: {answer}\")"
      ]
    },
    {
      "cell_type": "code",
      "execution_count": null,
      "metadata": {
        "colab": {
          "base_uri": "https://localhost:8080/",
          "height": 267
        },
        "id": "Hx4hElL0kzlV",
        "outputId": "4ca0ff52-d2fa-45da-8030-38e035cd9178"
      },
      "outputs": [
        {
          "data": {
            "text/html": [
              "\n",
              "  <style>\n",
              "    pre {\n",
              "        white-space: pre-wrap;\n",
              "    }\n",
              "  </style>\n",
              "  "
            ],
            "text/plain": [
              "<IPython.core.display.HTML object>"
            ]
          },
          "metadata": {},
          "output_type": "display_data"
        },
        {
          "name": "stdout",
          "output_type": "stream",
          "text": [
            "Searching documents nearest to the question.\n",
            "Getting summary for conversation 1\n",
            "Getting summary for conversation 2\n",
            "Getting summary for conversation 3\n",
            "Getting answer for the question.\n",
            "\n",
            "\n",
            "Question: What is the best way to train models for tabular data?\n",
            "Answer: The best way to train models for tabular data depends on the specific problem and dataset. However, based on the conversations from the MLOps.community slack channel, gradient-boosted tree ensembles, such as XGBoost and LightGBM, are often preferred for their performance and training speed compared to deep learning models. These models can achieve accurate results with smart sampling and limited hyperparameter tuning. Deep learning models can be more resource-intensive and may offer similar or slightly worse results in some cases. However, there are cases where neural network models, like those in the PyTorch-WideDeep library or those used for time series data from the Darts library, can be effective when combined with other data types or for specific tasks.\n"
          ]
        }
      ],
      "source": [
        "question=\"What is the best way to train models for tabular data?\"\n",
        "answer = get_answer(question)\n",
        "print(f\"\\n\\nQuestion: {question}\\nAnswer: {answer}\")"
      ]
    },
    {
      "cell_type": "code",
      "execution_count": null,
      "metadata": {
        "id": "r-tnVPN3laIl"
      },
      "outputs": [],
      "source": []
    }
  ],
  "metadata": {
    "colab": {
      "provenance": []
    },
    "kernelspec": {
      "display_name": "Python 3",
      "name": "python3"
    },
    "language_info": {
      "codemirror_mode": {
        "name": "ipython",
        "version": 3
      },
      "file_extension": ".py",
      "mimetype": "text/x-python",
      "name": "python",
      "nbconvert_exporter": "python",
      "pygments_lexer": "ipython3",
      "version": "3.11.3"
    }
  },
  "nbformat": 4,
  "nbformat_minor": 0
}
